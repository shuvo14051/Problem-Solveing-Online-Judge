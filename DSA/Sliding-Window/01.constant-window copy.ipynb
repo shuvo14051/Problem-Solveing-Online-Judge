{
 "cells": [
  {
   "cell_type": "markdown",
   "metadata": {},
   "source": [
    "## 01 - Constant Sliding window\n",
    "The problem here is to find the maximum sum of consecutive k elements in the array. `ar = [-1, 2, 3, 3, 4, 5, -1]` `k=4`\n",
    "Find the maximum sum of consecutive 4 elements in the array `ar`"
   ]
  },
  {
   "cell_type": "code",
   "execution_count": 1,
   "metadata": {},
   "outputs": [
    {
     "name": "stdout",
     "output_type": "stream",
     "text": [
      "12\n"
     ]
    }
   ],
   "source": [
    "def constant_sliding_window(ar, k):\n",
    "    # Initialize the left (l) and right (r) pointers for the window\n",
    "    l = 0\n",
    "    r = k\n",
    "    \n",
    "    # Calculate the sum of the initial window\n",
    "    s = sum(ar[l:r])\n",
    "    \n",
    "    # Initialize the maximum sum with the sum of the initial window\n",
    "    max_sum = s\n",
    "\n",
    "    # Slide the window from the start to the end of the array\n",
    "    while r < len(ar):\n",
    "        # Update the window sum by removing the leftmost element of the current window\n",
    "        # and adding the next element in the array (the rightmost element of the new window)\n",
    "        s = s - ar[l] + ar[r]\n",
    "        \n",
    "        # Move the left pointer to the right\n",
    "        l += 1\n",
    "        # Move the right pointer to the right\n",
    "        r += 1\n",
    "        \n",
    "        # Update the maximum sum if the current window sum is greater\n",
    "        max_sum = max(max_sum, s)\n",
    "\n",
    "    return max_sum\n",
    "\n",
    "# Example usage\n",
    "ar = [1, 2, 3, 4, 5]\n",
    "k = 3\n",
    "print(constant_sliding_window(ar, k))  # Output should be 12"
   ]
  },
  {
   "cell_type": "code",
   "execution_count": 2,
   "metadata": {},
   "outputs": [
    {
     "data": {
      "text/plain": [
       "15"
      ]
     },
     "execution_count": 2,
     "metadata": {},
     "output_type": "execute_result"
    }
   ],
   "source": [
    "ar = [-1, 2, 3, 3, 4, 5, -1]\n",
    "k = 4\n",
    "result = constant_sliding_window(ar,k)\n",
    "result"
   ]
  },
  {
   "cell_type": "code",
   "execution_count": null,
   "metadata": {},
   "outputs": [],
   "source": []
  }
 ],
 "metadata": {
  "kernelspec": {
   "display_name": "Python 3",
   "language": "python",
   "name": "python3"
  },
  "language_info": {
   "codemirror_mode": {
    "name": "ipython",
    "version": 3
   },
   "file_extension": ".py",
   "mimetype": "text/x-python",
   "name": "python",
   "nbconvert_exporter": "python",
   "pygments_lexer": "ipython3",
   "version": "3.11.0"
  }
 },
 "nbformat": 4,
 "nbformat_minor": 2
}
