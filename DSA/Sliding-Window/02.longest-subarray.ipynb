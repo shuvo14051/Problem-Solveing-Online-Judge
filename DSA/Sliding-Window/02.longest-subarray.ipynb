{
 "cells": [
  {
   "cell_type": "markdown",
   "metadata": {},
   "source": [
    "## 02 - Longest subarray / substring\n",
    "Find the longest subarray where the sum is less than or equal to an integer"
   ]
  },
  {
   "cell_type": "code",
   "execution_count": 22,
   "metadata": {},
   "outputs": [],
   "source": [
    "def longest_subarray(ar, k):\n",
    "    l, r, s, max_length = 0, 0, 0, 0\n",
    "    n = len(ar)\n",
    "\n",
    "    while r < n:\n",
    "        s = s + ar[r]\n",
    "        while s>k:\n",
    "            s -= ar[l]\n",
    "            l+=1\n",
    "        max_length = max(max_length, r - l + 1)\n",
    "        r += 1\n",
    "\n",
    "    return max_length"
   ]
  },
  {
   "cell_type": "code",
   "execution_count": 23,
   "metadata": {},
   "outputs": [
    {
     "data": {
      "text/plain": [
       "2"
      ]
     },
     "execution_count": 23,
     "metadata": {},
     "output_type": "execute_result"
    }
   ],
   "source": [
    "longest_subarray([1,2,3,4,5,6],3)"
   ]
  },
  {
   "cell_type": "markdown",
   "metadata": {},
   "source": [
    "## Return the subarray ???????????????"
   ]
  },
  {
   "cell_type": "markdown",
   "metadata": {},
   "source": []
  }
 ],
 "metadata": {
  "kernelspec": {
   "display_name": "Python 3",
   "language": "python",
   "name": "python3"
  },
  "language_info": {
   "codemirror_mode": {
    "name": "ipython",
    "version": 3
   },
   "file_extension": ".py",
   "mimetype": "text/x-python",
   "name": "python",
   "nbconvert_exporter": "python",
   "pygments_lexer": "ipython3",
   "version": "3.11.0"
  }
 },
 "nbformat": 4,
 "nbformat_minor": 2
}
