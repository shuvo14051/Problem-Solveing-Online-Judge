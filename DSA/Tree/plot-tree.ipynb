{
 "cells": [
  {
   "cell_type": "code",
   "execution_count": 1,
   "id": "23f012ad-b911-4aea-b8d2-3b6684e28c23",
   "metadata": {},
   "outputs": [
    {
     "data": {
      "image/png": "[encoded data removed]",
      "text/plain": [
       "<Figure size 150x100 with 1 Axes>"
      ]
     },
     "metadata": {},
     "output_type": "display_data"
    }
   ],
   "source": [
    "import matplotlib.pyplot as plt\n",
    "\n",
    "class Node:\n",
    "    def __init__(self, value):\n",
    "        self.value = value\n",
    "        self.left = None\n",
    "        self.right = None\n",
    "\n",
    "def plot_tree(node, x=0, y=0, dx=0.3, dy=0.5, parent=None):\n",
    "    if node:\n",
    "        plt.text(x, y, str(node.value), fontsize=12, ha='center', va='center', bbox=dict(boxstyle=\"circle\", fc=\"w\", ec=\"b\"))\n",
    "        if parent:\n",
    "            plt.plot([x, parent[0]], [y, parent[1]], \"k-\")\n",
    "        plot_tree(node.left, x - dx, y - dy, dx / 2, dy, (x, y))\n",
    "        plot_tree(node.right, x + dx, y - dy, dx / 2, dy, (x, y))\n",
    "\n",
    "# Example Binary Tree\n",
    "root = Node(1)\n",
    "root.left = Node(2)\n",
    "root.right = Node(3)\n",
    "root.left.left = Node(4)\n",
    "root.left.right = Node(5)\n",
    "root.right.right = Node(6)\n",
    "\n",
    "# Reduce spacing by adjusting dx and dy\n",
    "plt.figure(figsize=(1.5, 1))\n",
    "plot_tree(root)\n",
    "plt.axis(\"off\")\n",
    "plt.show()"
   ]
  },
  {
   "cell_type": "code",
   "execution_count": null,
   "id": "179bb0ea-6a35-4f8f-9b21-5060f82f090e",
   "metadata": {},
   "outputs": [],
   "source": []
  }
 ],
 "metadata": {
  "kernelspec": {
   "display_name": "Python 3 (ipykernel)",
   "language": "python",
   "name": "python3"
  },
  "language_info": {
   "codemirror_mode": {
    "name": "ipython",
    "version": 3
   },
   "file_extension": ".py",
   "mimetype": "text/x-python",
   "name": "python",
   "nbconvert_exporter": "python",
   "pygments_lexer": "ipython3",
   "version": "3.11.0"
  }
 },
 "nbformat": 4,
 "nbformat_minor": 5
}
