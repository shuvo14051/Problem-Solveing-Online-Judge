{
 "cells": [
  {
   "cell_type": "markdown",
   "metadata": {},
   "source": [
    "# Node"
   ]
  },
  {
   "cell_type": "code",
   "execution_count": 1,
   "metadata": {},
   "outputs": [],
   "source": [
    "class Node:\n",
    "    def __init__(self, data):\n",
    "        self.data = data\n",
    "        self.left = None\n",
    "        self.right = None"
   ]
  },
  {
   "cell_type": "code",
   "execution_count": 2,
   "metadata": {},
   "outputs": [],
   "source": [
    "n1 = Node(\"root\")\n",
    "n2 = Node(\"left child node\")\n",
    "n3 = Node(\"right child node\")\n",
    "n4 = Node(\"left grandchild node\")"
   ]
  },
  {
   "cell_type": "markdown",
   "metadata": {},
   "source": [
    "``` python\n",
    "Another way of creating node\n",
    "n1.left = n2\n",
    "n2.left = n4\n",
    "n1.right = n3\n",
    "```"
   ]
  },
  {
   "cell_type": "markdown",
   "metadata": {},
   "source": [
    "<p style='text-align:center'><img src='images/img1.png' height=150 width=250></p>"
   ]
  },
  {
   "cell_type": "code",
   "execution_count": 3,
   "metadata": {},
   "outputs": [],
   "source": [
    "n1.left = n2\n",
    "n1.left.left = n4\n",
    "n1.right = n3"
   ]
  },
  {
   "cell_type": "markdown",
   "metadata": {},
   "source": [
    "# In-oder traversal (DFS)"
   ]
  },
  {
   "cell_type": "code",
   "execution_count": 4,
   "metadata": {},
   "outputs": [],
   "source": [
    "def in_order(root):\n",
    "    current = root  # Start with the root node\n",
    "    if current is None:  # Base case: if the node is None, return\n",
    "        return\n",
    "    in_order(current.left)  # Recursively traverse the left subtree\n",
    "    print(current.data, end='-> ')  # Visit the current node (process its data)\n",
    "    in_order(current.right)  # Recursively traverse the right subtree"
   ]
  },
  {
   "cell_type": "code",
   "execution_count": 5,
   "metadata": {},
   "outputs": [
    {
     "name": "stdout",
     "output_type": "stream",
     "text": [
      "left grandchild node-> left child node-> root-> right child node-> "
     ]
    }
   ],
   "source": [
    "in_order(n1)"
   ]
  },
  {
   "cell_type": "markdown",
   "metadata": {},
   "source": [
    "## Another example\n",
    "<p style='text-align:center'><img src='images/img2.png' height=150 width=250></p>"
   ]
  },
  {
   "cell_type": "code",
   "execution_count": 6,
   "metadata": {},
   "outputs": [],
   "source": [
    "# Create the nodes\n",
    "root = Node('A')\n",
    "root.left = Node('B')\n",
    "root.right = Node('C')\n",
    "root.left.left = Node('D')\n",
    "root.left.right = Node('E')\n",
    "root.right.right = Node('F')\n",
    "root.left.left.left = Node('G')\n",
    "root.left.left.right = Node('H')"
   ]
  },
  {
   "cell_type": "code",
   "execution_count": 7,
   "metadata": {},
   "outputs": [
    {
     "name": "stdout",
     "output_type": "stream",
     "text": [
      "G-> D-> H-> B-> E-> A-> C-> F-> "
     ]
    }
   ],
   "source": [
    "in_order(root)"
   ]
  },
  {
   "cell_type": "markdown",
   "metadata": {},
   "source": [
    "# Preorder Traversal (DFS)"
   ]
  },
  {
   "cell_type": "code",
   "execution_count": 8,
   "metadata": {},
   "outputs": [],
   "source": [
    "def pre_order(root):\n",
    "    current = root  # Start with the root node\n",
    "    if current is None:  # Base case: if the node is None, return\n",
    "        return\n",
    "    print(current.data, end='-> ')  # Visit the current node (process its data)\n",
    "    pre_order(current.left)  # Recursively traverse the left subtree\n",
    "    pre_order(current.right)  # Recursively traverse the right subtree"
   ]
  },
  {
   "cell_type": "markdown",
   "metadata": {},
   "source": [
    "<p style='text-align:center'><img src='images/img2.png' height=150 width=250></p>"
   ]
  },
  {
   "cell_type": "code",
   "execution_count": 9,
   "metadata": {},
   "outputs": [
    {
     "name": "stdout",
     "output_type": "stream",
     "text": [
      "A-> B-> D-> G-> H-> E-> C-> F-> "
     ]
    }
   ],
   "source": [
    "pre_order(root)"
   ]
  },
  {
   "cell_type": "code",
   "execution_count": 10,
   "metadata": {},
   "outputs": [
    {
     "name": "stdout",
     "output_type": "stream",
     "text": [
      "root-> left child node-> left grandchild node-> right child node-> "
     ]
    }
   ],
   "source": [
    "pre_order(n1)"
   ]
  },
  {
   "cell_type": "code",
   "execution_count": 11,
   "metadata": {},
   "outputs": [],
   "source": [
    "## Post order (DFS)"
   ]
  },
  {
   "cell_type": "code",
   "execution_count": 12,
   "metadata": {},
   "outputs": [],
   "source": [
    "def post_order(root):\n",
    "    current = root  # Start with the root node\n",
    "    if current is None:  # Base case: if the node is None, return\n",
    "        return\n",
    "    post_order(current.left)  # Recursively traverse the left subtree\n",
    "    post_order(current.right)  # Recursively traverse the right subtree\n",
    "    print(current.data, end='-> ')  # Visit the current node (process its data)"
   ]
  },
  {
   "cell_type": "code",
   "execution_count": 13,
   "metadata": {},
   "outputs": [
    {
     "name": "stdout",
     "output_type": "stream",
     "text": [
      "G-> H-> D-> E-> B-> F-> C-> A-> "
     ]
    }
   ],
   "source": [
    "post_order(root)"
   ]
  },
  {
   "cell_type": "markdown",
   "metadata": {},
   "source": [
    "# DFS using Stack"
   ]
  },
  {
   "cell_type": "code",
   "execution_count": 14,
   "metadata": {},
   "outputs": [],
   "source": [
    "def dfs_iterative(root):\n",
    "    if root is None:\n",
    "        return\n",
    "    \n",
    "    stack = [root]\n",
    "    \n",
    "    while stack:\n",
    "        current = stack.pop()\n",
    "        print(current.data, end=\" ->\")\n",
    "        \n",
    "        # Push right child first so left child is processed next\n",
    "        if current.right:\n",
    "            stack.append(current.right)\n",
    "        if current.left:\n",
    "            stack.append(current.left) "
   ]
  },
  {
   "cell_type": "code",
   "execution_count": 15,
   "metadata": {},
   "outputs": [
    {
     "name": "stdout",
     "output_type": "stream",
     "text": [
      "A ->B ->D ->G ->H ->E ->C ->F ->"
     ]
    }
   ],
   "source": [
    "dfs_iterative(root)"
   ]
  },
  {
   "cell_type": "code",
   "execution_count": 16,
   "metadata": {},
   "outputs": [
    {
     "name": "stdout",
     "output_type": "stream",
     "text": [
      "G-> D-> H-> B-> E-> A-> C-> F-> "
     ]
    }
   ],
   "source": [
    "in_order(root)"
   ]
  },
  {
   "cell_type": "markdown",
   "metadata": {},
   "source": [
    "# Level-order traversal (BFS)\n",
    "<p style='text-align:center'><img src='images/img2.png' height=150 width=250></p>"
   ]
  },
  {
   "cell_type": "code",
   "execution_count": 17,
   "metadata": {},
   "outputs": [],
   "source": [
    "from collections import deque\n",
    "\n",
    "def level_order_traversal(root):\n",
    "    if root is None:\n",
    "        return\n",
    "        \n",
    "    list_of_nodes = []\n",
    "    traverse_queue = deque([root])\n",
    "    \n",
    "    while traverse_queue:\n",
    "        node = traverse_queue.popleft()\n",
    "        list_of_nodes.append(node.data)\n",
    "        \n",
    "        if node.left:\n",
    "            traverse_queue.append(node.left)\n",
    "        if node.right:\n",
    "            traverse_queue.append(node.right)\n",
    "            \n",
    "    return list_of_nodes"
   ]
  },
  {
   "cell_type": "code",
   "execution_count": 19,
   "metadata": {},
   "outputs": [
    {
     "data": {
      "text/plain": [
       "['A', 'B', 'C', 'D', 'E', 'F', 'G', 'H']"
      ]
     },
     "execution_count": 19,
     "metadata": {},
     "output_type": "execute_result"
    }
   ],
   "source": [
    "level_order_traversal(root)"
   ]
  },
  {
   "cell_type": "code",
   "execution_count": null,
   "metadata": {},
   "outputs": [],
   "source": []
  }
 ],
 "metadata": {
  "kernelspec": {
   "display_name": "Python 3 (ipykernel)",
   "language": "python",
   "name": "python3"
  },
  "language_info": {
   "codemirror_mode": {
    "name": "ipython",
    "version": 3
   },
   "file_extension": ".py",
   "mimetype": "text/x-python",
   "name": "python",
   "nbconvert_exporter": "python",
   "pygments_lexer": "ipython3",
   "version": "3.11.0"
  }
 },
 "nbformat": 4,
 "nbformat_minor": 4
}
