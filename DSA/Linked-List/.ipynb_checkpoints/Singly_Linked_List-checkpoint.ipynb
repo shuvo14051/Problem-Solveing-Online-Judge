{
 "cells": [
  {
   "cell_type": "markdown",
   "metadata": {},
   "source": [
    "# Node class"
   ]
  },
  {
   "cell_type": "code",
   "execution_count": 1,
   "metadata": {
    "id": "4kDTBBaGeGiw"
   },
   "outputs": [],
   "source": [
    "class Node:\n",
    "    def __init__(self, data):        \n",
    "        self.data = data\n",
    "        self.next = None"
   ]
  },
  {
   "cell_type": "markdown",
   "metadata": {},
   "source": [
    "## Explain `append_at_end()` with example\n",
    "\n",
    "Updating both `self.tail.next` and `self.tail` is necessary to maintain the integrity of the linked list and ensure that the new node is correctly appended at the end of the list. Here's why each update is needed: <br />\n",
    "\n",
    "1. __Initial State:__\n",
    "   - Suppose we have an existing singly linked list with the nodes `A -> B -> C`. In this list:\n",
    "       - `self.head` points to node `A`\n",
    "       - `self.tail` points to node `C`\n",
    "       - Node `A` points to node `B`\n",
    "       - Node `B` points to node `C`\n",
    "       - Node `C` points to None (since it's the last node)\n",
    "        \n",
    "2. __Step-by-Step Example: Appending Node `D`:__\n",
    "   1. __Create a new node `D`__\n",
    "      - A new node `D` is created with its next attribute set to `None`.\n",
    "   2. __Current State Before Appending:__\n",
    "      - `self.head` -> `A`\n",
    "      - `A.next` -> `B`\n",
    "      - `B.next` -> `C`\n",
    "      - `C.next` -> `None`\n",
    "      - `self.tail` -> `C`\n",
    "      - New node `D` -> `None`\n",
    "    3. __Updating self.tail.next:__\n",
    "       - We set `self.tail.next = node` (where node is the new node `D`)\n",
    "       - This means `C.next` now points to `D`. <br>\n",
    "       The list now looks like this: <br >\n",
    "       - `A -> B -> C -> D`\n",
    "       - `C.next` -> `D`\n",
    "       - `D.next` -> `None`\n",
    "       - But `self.tail` still points to `C`\n",
    "    4. __Updating `self.tail`:__\n",
    "       - We set `self.tail = node` (where node is the new node `D`).\n",
    "       - This means `self.tail` now points to `D`.\n",
    "      \n",
    "3. __If we didn't update `self.tail.next`:__\n",
    "    - The node `C` would not point to the new node `D`, breaking the list.\n",
    "    - The list would incorrectly look like `A -> B -> C`, and `D` would be disconnected.\n",
    "  \n",
    "4. If we didn't update `self.tail`:\n",
    "   - The tail pointer would still point to `C`, which is no longer the last node.\n",
    "   - Future operations relying on self.tail would incorrectly reference `C` instead of `D`.\n"
   ]
  },
  {
   "cell_type": "markdown",
   "metadata": {},
   "source": [
    "## Explain append_at_beginning() with example\n",
    "\n",
    "1. __Initial State:__\n",
    "   - The linked list is empty (`head` is `None`).\n",
    "        \n",
    "2. __Appending 10:__\n",
    "   - Call `append_at_beginning(10)`\n",
    "   - Since the list is empty, a new node with data 10 is created. This node becomes both the `head` and the `tail` of the list.\n",
    "   - List now: 10\n",
    "3. __Appending 20:__\n",
    "   - Call `append_at_beginning(20)`.\n",
    "   - A new node with data 20 is created. The new node's `next` is set to the current `head` (which is the node with data 10).\n",
    "   - The `head` of the list is updated to the new node with data 20.\n",
    "   "
   ]
  },
  {
   "cell_type": "markdown",
   "metadata": {},
   "source": [
    "# Singly Linked List class"
   ]
  },
  {
   "cell_type": "code",
   "execution_count": 18,
   "metadata": {
    "id": "p2VeTlFqeKT-"
   },
   "outputs": [],
   "source": [
    "class SinglyLinkedList:\n",
    "    \n",
    "    def __init__(self):\n",
    "        self.head = None\n",
    "        self.tail = None\n",
    "        self.size = 0\n",
    "\n",
    "    def append_at_end(self, data):\n",
    "        node = Node(data)\n",
    "        \n",
    "        if self.tail:\n",
    "            self.tail.next = node\n",
    "            self.tail = node\n",
    "        else:\n",
    "            self.head = node\n",
    "            self.tail = node\n",
    "        self.size += 1\n",
    "\n",
    "    def append_at_beginning(self, data):\n",
    "        node = Node(data)\n",
    "\n",
    "        if self.head:\n",
    "            node.next = self.head\n",
    "            self.head = node\n",
    "        else:\n",
    "            self.head = node\n",
    "            self.tail = node\n",
    "        self.size += 1\n",
    "            \n",
    "    def insert_at_position(self, position, data):\n",
    "        if position < 0 or position > self.size:\n",
    "            raise IndexError(\"Invalid position\")\n",
    "        \n",
    "        if position == 0:\n",
    "            self.append_at_beginning(data)\n",
    "            return\n",
    "            \n",
    "        elif position == self.size:\n",
    "            self.append_at_end(data)\n",
    "            return\n",
    "            \n",
    "        else:\n",
    "            node = Node(data)\n",
    "            current = self.head\n",
    "            for _ in range(position - 1):\n",
    "                current = current.next\n",
    "            node.next = current.next\n",
    "            current.next = node\n",
    "            self.size += 1\n",
    "    \n",
    "    def find_by_index(self, position):\n",
    "        # need to use >= because if only use  > will return None not raise an index error.\n",
    "        if position < 0 or position >= self.size:\n",
    "            raise IndexError(\"Invalid position\")\n",
    "        current = self.head\n",
    "        count = 0\n",
    "        while current:\n",
    "            if count == position:\n",
    "                return current.data\n",
    "            current = current.next\n",
    "            count += 1\n",
    "\n",
    "    def find_by_value(self, data):\n",
    "        current = self.head\n",
    "        while current:\n",
    "            if current.data == data:\n",
    "                return True\n",
    "            current = current.next\n",
    "        return False\n",
    "        \n",
    "    def display_list(self):\n",
    "        current = self.head\n",
    "        while current:\n",
    "          print(current.data, end=\" --> \")\n",
    "          current = current.next\n",
    "        print(\"None\")"
   ]
  },
  {
   "cell_type": "code",
   "execution_count": 19,
   "metadata": {
    "id": "Hb4PGe5jeLfU"
   },
   "outputs": [
    {
     "name": "stdout",
     "output_type": "stream",
     "text": [
      "-1 --> 0 --> 1 --> 2 --> None\n"
     ]
    }
   ],
   "source": [
    "s = SinglyLinkedList()\n",
    "# insert at end\n",
    "s.append_at_end(1)\n",
    "s.append_at_end(2)\n",
    "\n",
    "# insert at beginning\n",
    "s.append_at_beginning(0)\n",
    "s.append_at_beginning(-1)\n",
    "s.display_list()"
   ]
  },
  {
   "cell_type": "code",
   "execution_count": 20,
   "metadata": {},
   "outputs": [
    {
     "ename": "IndexError",
     "evalue": "Invalid position",
     "output_type": "error",
     "traceback": [
      "\u001b[1;31m---------------------------------------------------------------------------\u001b[0m",
      "\u001b[1;31mIndexError\u001b[0m                                Traceback (most recent call last)",
      "Cell \u001b[1;32mIn[20], line 1\u001b[0m\n\u001b[1;32m----> 1\u001b[0m \u001b[43ms\u001b[49m\u001b[38;5;241;43m.\u001b[39;49m\u001b[43mfind_by_index\u001b[49m\u001b[43m(\u001b[49m\u001b[38;5;241;43m4\u001b[39;49m\u001b[43m)\u001b[49m\n",
      "Cell \u001b[1;32mIn[18], line 53\u001b[0m, in \u001b[0;36mSinglyLinkedList.find_by_index\u001b[1;34m(self, position)\u001b[0m\n\u001b[0;32m     51\u001b[0m \u001b[38;5;28;01mdef\u001b[39;00m \u001b[38;5;21mfind_by_index\u001b[39m(\u001b[38;5;28mself\u001b[39m, position):\n\u001b[0;32m     52\u001b[0m     \u001b[38;5;28;01mif\u001b[39;00m position \u001b[38;5;241m<\u001b[39m \u001b[38;5;241m0\u001b[39m \u001b[38;5;129;01mor\u001b[39;00m position \u001b[38;5;241m>\u001b[39m\u001b[38;5;241m=\u001b[39m \u001b[38;5;28mself\u001b[39m\u001b[38;5;241m.\u001b[39msize:\n\u001b[1;32m---> 53\u001b[0m         \u001b[38;5;28;01mraise\u001b[39;00m \u001b[38;5;167;01mIndexError\u001b[39;00m(\u001b[38;5;124m\"\u001b[39m\u001b[38;5;124mInvalid position\u001b[39m\u001b[38;5;124m\"\u001b[39m)\n\u001b[0;32m     54\u001b[0m     current \u001b[38;5;241m=\u001b[39m \u001b[38;5;28mself\u001b[39m\u001b[38;5;241m.\u001b[39mhead\n\u001b[0;32m     55\u001b[0m     count \u001b[38;5;241m=\u001b[39m \u001b[38;5;241m0\u001b[39m\n",
      "\u001b[1;31mIndexError\u001b[0m: Invalid position"
     ]
    }
   ],
   "source": [
    "s.find_by_index(4)"
   ]
  },
  {
   "cell_type": "code",
   "execution_count": 5,
   "metadata": {},
   "outputs": [
    {
     "data": {
      "text/plain": [
       "False"
      ]
     },
     "execution_count": 5,
     "metadata": {},
     "output_type": "execute_result"
    }
   ],
   "source": [
    "# Find by value\n",
    "s.find_by_value(10)"
   ]
  },
  {
   "cell_type": "code",
   "execution_count": 6,
   "metadata": {},
   "outputs": [
    {
     "data": {
      "text/plain": [
       "0"
      ]
     },
     "execution_count": 6,
     "metadata": {},
     "output_type": "execute_result"
    }
   ],
   "source": [
    "# Find by index\n",
    "s.find_by_index(1)"
   ]
  },
  {
   "cell_type": "code",
   "execution_count": 7,
   "metadata": {},
   "outputs": [
    {
     "name": "stdout",
     "output_type": "stream",
     "text": [
      "-99 --> -1 --> 0 --> 1 --> 2 --> None\n"
     ]
    }
   ],
   "source": [
    "# insert at any position\n",
    "s.insert_at_position(0,-99)\n",
    "s.display_list()"
   ]
  },
  {
   "cell_type": "code",
   "execution_count": 8,
   "metadata": {},
   "outputs": [
    {
     "name": "stdout",
     "output_type": "stream",
     "text": [
      "-99 --> -1 --> 0 --> 1 --> 2 --> 999 --> None\n"
     ]
    }
   ],
   "source": [
    "# insert at any position\n",
    "s.insert_at_position(5,999)\n",
    "s.display_list()"
   ]
  }
 ],
 "metadata": {
  "colab": {
   "provenance": []
  },
  "kernelspec": {
   "display_name": "Python 3 (ipykernel)",
   "language": "python",
   "name": "python3"
  },
  "language_info": {
   "codemirror_mode": {
    "name": "ipython",
    "version": 3
   },
   "file_extension": ".py",
   "mimetype": "text/x-python",
   "name": "python",
   "nbconvert_exporter": "python",
   "pygments_lexer": "ipython3",
   "version": "3.11.0"
  }
 },
 "nbformat": 4,
 "nbformat_minor": 4
}
