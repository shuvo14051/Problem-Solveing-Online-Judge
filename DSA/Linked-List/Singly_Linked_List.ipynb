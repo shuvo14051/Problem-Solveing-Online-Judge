{
 "cells": [
  {
   "cell_type": "markdown",
   "metadata": {},
   "source": [
    "# Node class"
   ]
  },
  {
   "cell_type": "code",
   "execution_count": 10,
   "metadata": {
    "id": "4kDTBBaGeGiw"
   },
   "outputs": [],
   "source": [
    "class Node:\n",
    "    def __init__(self, data):        \n",
    "        self.data = data\n",
    "        self.next = None"
   ]
  },
  {
   "cell_type": "markdown",
   "metadata": {},
   "source": [
    "## Explain `append_at_end()` with example\n",
    "\n",
    "Updating both `self.tail.next` and `self.tail` is necessary to maintain the integrity of the linked list and ensure that the new node is correctly appended at the end of the list. Here's why each update is needed: <br />\n",
    "\n",
    "1. __Initial State:__\n",
    "   - Suppose we have an existing singly linked list with the nodes `A -> B -> C`. In this list:\n",
    "       - `self.head` points to node `A`\n",
    "       - `self.tail` points to node `C`\n",
    "       - Node `A` points to node `B`\n",
    "       - Node `B` points to node `C`\n",
    "       - Node `C` points to None (since it's the last node)\n",
    "        \n",
    "2. __Step-by-Step Example: Appending Node `D`:__\n",
    "   1. __Create a new node `D`__\n",
    "      - A new node `D` is created with its next attribute set to `None`.\n",
    "   2. __Current State Before Appending:__\n",
    "      - `self.head` -> `A`\n",
    "      - `A.next` -> `B`\n",
    "      - `B.next` -> `C`\n",
    "      - `C.next` -> `None`\n",
    "      - `self.tail` -> `C`\n",
    "      - New node `D` -> `None`\n",
    "    3. __Updating self.tail.next:__\n",
    "       - We set `self.tail.next = node` (where node is the new node `D`)\n",
    "       - This means `C.next` now points to `D`. <br>\n",
    "       The list now looks like this: <br >\n",
    "       - `A -> B -> C -> D`\n",
    "       - `C.next` -> `D`\n",
    "       - `D.next` -> `None`\n",
    "       - But `self.tail` still points to `C`\n",
    "    4. __Updating `self.tail`:__\n",
    "       - We set `self.tail = node` (where node is the new node `D`).\n",
    "       - This means `self.tail` now points to `D`.\n",
    "      \n",
    "3. __If we didn't update `self.tail.next`:__\n",
    "    - The node `C` would not point to the new node `D`, breaking the list.\n",
    "    - The list would incorrectly look like `A -> B -> C`, and `D` would be disconnected.\n",
    "  \n",
    "4. If we didn't update `self.tail`:\n",
    "   - The tail pointer would still point to `C`, which is no longer the last node.\n",
    "   - Future operations relying on self.tail would incorrectly reference `C` instead of `D`.\n"
   ]
  },
  {
   "cell_type": "markdown",
   "metadata": {},
   "source": [
    "## Explain insert_at_position() with example\n",
    "\n",
    "<img src=\"../images/linked1.png\" height=500 width=795>\n",
    "<img src=\"../images/linked2.png\" height=500 width=800>\n",
    "   "
   ]
  },
  {
   "cell_type": "code",
   "execution_count": 11,
   "metadata": {},
   "outputs": [],
   "source": [
    "## Explain append_at_beginning() with example"
   ]
  },
  {
   "cell_type": "markdown",
   "metadata": {},
   "source": [
    "# Singly Linked List class"
   ]
  },
  {
   "cell_type": "code",
   "execution_count": 64,
   "metadata": {
    "id": "p2VeTlFqeKT-"
   },
   "outputs": [],
   "source": [
    "class SinglyLinkedList:\n",
    "    \n",
    "    def __init__(self):\n",
    "        self.head = None\n",
    "        self.tail = None\n",
    "        self.size = 0\n",
    "\n",
    "    \n",
    "    ##################### Insert #######################\n",
    "    def append_at_end(self, data):\n",
    "        node = Node(data)\n",
    "        \n",
    "        if self.tail:\n",
    "            self.tail.next = node\n",
    "            self.tail = node\n",
    "        else:\n",
    "            self.head = node\n",
    "            self.tail = node\n",
    "        self.size += 1\n",
    "\n",
    "    def append_at_beginning(self, data):\n",
    "        node = Node(data)\n",
    "\n",
    "        if self.head:\n",
    "            node.next = self.head\n",
    "            self.head = node\n",
    "        else:\n",
    "            self.head = node\n",
    "            self.tail = node\n",
    "        self.size += 1\n",
    "            \n",
    "    def insert_at_position(self, position, data):\n",
    "        if position < 0 or position > self.size:\n",
    "            raise IndexError(\"Invalid position\")\n",
    "        \n",
    "        if position == 0:\n",
    "            self.append_at_beginning(data)\n",
    "            return\n",
    "            \n",
    "        elif position == self.size:\n",
    "            self.append_at_end(data)\n",
    "            return\n",
    "            \n",
    "        else:\n",
    "            node = Node(data)\n",
    "            current = self.head\n",
    "            for _ in range(position - 1):\n",
    "                current = current.next\n",
    "            node.next = current.next\n",
    "            current.next = node\n",
    "            self.size += 1\n",
    "\n",
    "    ####################### Access an element #########################\n",
    "    def find_by_index(self, position):\n",
    "        # need to use >= because if only use  > will return None not raise an index error.\n",
    "        if position < 0 or position >= self.size:\n",
    "            raise IndexError(\"Invalid position\")\n",
    "        current = self.head\n",
    "        count = 0\n",
    "        while current:\n",
    "            if count == position:\n",
    "                return current.data\n",
    "            current = current.next\n",
    "            count += 1\n",
    "\n",
    "    def find_by_value(self, data):\n",
    "        current = self.head\n",
    "        while current:\n",
    "            if current.data == data:\n",
    "                return True\n",
    "            current = current.next\n",
    "        return False\n",
    "\n",
    "    #################### Delete operations #####################\n",
    "    def delete_from_beginning(self):\n",
    "        if self.head is None:\n",
    "            raise IndexError(\"Nothing to delete: The list is empty\")\n",
    "\n",
    "        self.head = self.head.next\n",
    "        self.size -= 1\n",
    "        if self.size == 0:\n",
    "            self.tail = None\n",
    "\n",
    "    def delete_from_end(self):\n",
    "        if self.head is None:\n",
    "            raise IndexError(\"Nothing to delete: The list is empty\")\n",
    "\n",
    "        if self.head == self.tail:\n",
    "            self.head = None\n",
    "            self.tail = None\n",
    "\n",
    "        else:\n",
    "            current = self.head\n",
    "            while current.next != self.tail:\n",
    "                current = current.next\n",
    "            current.next = None\n",
    "            self.tail = current\n",
    "\n",
    "        self.size-=1\n",
    "\n",
    "    def delete_at_any_position(self, position):\n",
    "        if position < 0 or position > self.size:\n",
    "            raise IndexError(\"Invalid position\")\n",
    "        \n",
    "        if position == 0:\n",
    "            self.delete_from_beginning()\n",
    "            return\n",
    "            \n",
    "        elif position == self.size:\n",
    "            self.delete_from_end()\n",
    "            return\n",
    "\n",
    "        current = self.head\n",
    "        for _ in range(position-1):\n",
    "            current = current.next\n",
    "        current.next = current.next.next\n",
    "        self.size-=1\n",
    "\n",
    "    def delete_by_value(self, data):\n",
    "        \n",
    "            \n",
    "\n",
    "    #################### Display the list  #####################\n",
    "    def display_list(self):\n",
    "        current = self.head\n",
    "        while current:\n",
    "          print(current.data, end=\" --> \")\n",
    "          current = current.next\n",
    "        print(\"None\")"
   ]
  },
  {
   "cell_type": "code",
   "execution_count": 65,
   "metadata": {
    "id": "Hb4PGe5jeLfU"
   },
   "outputs": [
    {
     "name": "stdout",
     "output_type": "stream",
     "text": [
      "10 --> 20 --> 30 --> 40 --> None\n"
     ]
    }
   ],
   "source": [
    "s = SinglyLinkedList()\n",
    "# insert at end\n",
    "s.append_at_end(30)\n",
    "s.append_at_end(40)\n",
    "\n",
    "# insert at beginning\n",
    "s.append_at_beginning(20)\n",
    "s.append_at_beginning(10)\n",
    "s.display_list()"
   ]
  },
  {
   "cell_type": "code",
   "execution_count": 66,
   "metadata": {},
   "outputs": [],
   "source": [
    "# s.find_by_index(4)"
   ]
  },
  {
   "cell_type": "code",
   "execution_count": 67,
   "metadata": {},
   "outputs": [
    {
     "data": {
      "text/plain": [
       "True"
      ]
     },
     "execution_count": 67,
     "metadata": {},
     "output_type": "execute_result"
    }
   ],
   "source": [
    "# Find by value\n",
    "s.find_by_value(10)"
   ]
  },
  {
   "cell_type": "code",
   "execution_count": 68,
   "metadata": {},
   "outputs": [
    {
     "data": {
      "text/plain": [
       "20"
      ]
     },
     "execution_count": 68,
     "metadata": {},
     "output_type": "execute_result"
    }
   ],
   "source": [
    "# Find by index\n",
    "s.find_by_index(1)"
   ]
  },
  {
   "cell_type": "code",
   "execution_count": 69,
   "metadata": {},
   "outputs": [
    {
     "name": "stdout",
     "output_type": "stream",
     "text": [
      "10 --> 20 --> 30 --> 99 --> 40 --> None\n"
     ]
    }
   ],
   "source": [
    "# insert at any position\n",
    "s.insert_at_position(3,99)\n",
    "s.display_list()"
   ]
  },
  {
   "cell_type": "code",
   "execution_count": 70,
   "metadata": {},
   "outputs": [
    {
     "name": "stdout",
     "output_type": "stream",
     "text": [
      "10 --> 20 --> 30 --> 99 --> 40 --> 999 --> None\n"
     ]
    }
   ],
   "source": [
    "# insert at any position\n",
    "s.insert_at_position(5,999)\n",
    "s.display_list()"
   ]
  },
  {
   "cell_type": "markdown",
   "metadata": {},
   "source": [
    "## To delete items from the linked list, we can add methods for:\n",
    "\n",
    "- Deleting the first node.\n",
    "- Deleting the last node.\n",
    "- Deleting a node at a specified position.\n",
    "- Deleting a node by value."
   ]
  },
  {
   "cell_type": "code",
   "execution_count": 71,
   "metadata": {},
   "outputs": [
    {
     "name": "stdout",
     "output_type": "stream",
     "text": [
      "20 --> 30 --> 99 --> 40 --> 999 --> None\n"
     ]
    }
   ],
   "source": [
    "s.delete_from_beginning()\n",
    "s.display_list()"
   ]
  },
  {
   "cell_type": "code",
   "execution_count": 72,
   "metadata": {},
   "outputs": [
    {
     "name": "stdout",
     "output_type": "stream",
     "text": [
      "20 --> 30 --> 99 --> 40 --> None\n"
     ]
    }
   ],
   "source": [
    "s.delete_from_end()\n",
    "s.display_list()"
   ]
  },
  {
   "cell_type": "code",
   "execution_count": 73,
   "metadata": {},
   "outputs": [
    {
     "name": "stdout",
     "output_type": "stream",
     "text": [
      "20 --> 99 --> 40 --> None\n"
     ]
    }
   ],
   "source": [
    "s.delete_at_any_position(1)\n",
    "s.display_list()"
   ]
  },
  {
   "cell_type": "code",
   "execution_count": 74,
   "metadata": {},
   "outputs": [
    {
     "name": "stdout",
     "output_type": "stream",
     "text": [
      "20 --> 99 --> None\n"
     ]
    }
   ],
   "source": [
    "s.delete_at_any_position(3)\n",
    "s.display_list()"
   ]
  },
  {
   "cell_type": "code",
   "execution_count": null,
   "metadata": {},
   "outputs": [],
   "source": []
  }
 ],
 "metadata": {
  "colab": {
   "provenance": []
  },
  "kernelspec": {
   "display_name": "Python 3 (ipykernel)",
   "language": "python",
   "name": "python3"
  },
  "language_info": {
   "codemirror_mode": {
    "name": "ipython",
    "version": 3
   },
   "file_extension": ".py",
   "mimetype": "text/x-python",
   "name": "python",
   "nbconvert_exporter": "python",
   "pygments_lexer": "ipython3",
   "version": "3.11.0"
  }
 },
 "nbformat": 4,
 "nbformat_minor": 4
}
