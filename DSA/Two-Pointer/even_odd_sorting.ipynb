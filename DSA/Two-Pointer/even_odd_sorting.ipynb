{
 "cells": [
  {
   "cell_type": "markdown",
   "id": "f316e88d-7a0e-4ef7-86b3-87149bc73e11",
   "metadata": {},
   "source": [
    "# Problem: \n",
    "\n",
    "### Sort an array such that all even numbers come before all odd numbers.\n",
    "---\n",
    "#### Brute force approach:\n",
    "\n",
    "```python\n",
    "def partition_even_odd(nums):\n",
    "    even = []\n",
    "    odd = []\n",
    "    for num in nums:\n",
    "        if num % 2 == 0:\n",
    "            even.append(num)\n",
    "        else:\n",
    "            odd.append(num)\n",
    "    return even + odd\n",
    "result = partition_even_odd([1, 2, 3, 4, 5, 6])\n",
    "print(result)  # Output: [2, 4, 6, 1, 3, 5]\n",
    "```\n",
    "### Complexity analysis\n",
    "---\n",
    "- Time complexity: $O(n)$\n",
    "- Space complexity: $O(n)$\n",
    "\n",
    "## Goal: Improve the space complexity \n",
    "---\n",
    "- Approach: Use two pointers, one from the start and one from the end, swapping elements as needed.\n",
    "\n",
    "### Complexity analysis of two pointer approach\n",
    "\n",
    "- Time complexity: $O(n)$\n",
    "- __Space complexity: $O(1)$__"
   ]
  },
  {
   "cell_type": "code",
   "execution_count": 3,
   "id": "aa90f27e-33aa-41e3-9262-cb64b0dd3c22",
   "metadata": {},
   "outputs": [],
   "source": [
    "def partition_even_odd(nums):\n",
    "    L = 0\n",
    "    R = len(nums) - 1\n",
    "    while L < R:\n",
    "        if nums[L]%2==0:\n",
    "            L+=1\n",
    "        elif nums[R]%2!=0:\n",
    "            R-=1\n",
    "        else:\n",
    "            nums[L], nums[R] = nums[R], nums[L]\n",
    "    return nums"
   ]
  },
  {
   "cell_type": "code",
   "execution_count": 4,
   "id": "a66b61a1-a536-4565-9397-c277aace574f",
   "metadata": {},
   "outputs": [
    {
     "name": "stdout",
     "output_type": "stream",
     "text": [
      "[6, 2, 4, 3, 5, 1]\n"
     ]
    }
   ],
   "source": [
    "result = partition_even_odd([1, 2, 3, 4, 5, 6])\n",
    "print(result)"
   ]
  },
  {
   "cell_type": "markdown",
   "id": "33ebb32e-72a6-4594-bd2d-91430aff5e84",
   "metadata": {},
   "source": [
    "# Partition Even and Odd Numbers\n",
    "\n",
    "This notebook explains how to partition even and odd numbers in a list using a **two-pointer technique**. The implementation ensures that all even numbers are placed before all odd numbers in the list.\n",
    "\n",
    "---\n",
    "\n",
    "### Algorithm Description\n",
    "\n",
    "The algorithm uses two pointers:\n",
    "- `left`: Starts at the beginning of the array.\n",
    "- `right`: Starts at the end of the array.\n",
    "\n",
    "The process continues until the `left` pointer crosses the `right` pointer.\n",
    "\n",
    "#### Conditions:\n",
    "1. **If the number at the `left` pointer is even**, it is already in the correct position. Move the `left` pointer to the right.\n",
    "2. **If the number at the `right` pointer is odd**, it is already in the correct position. Move the `right` pointer to the left.\n",
    "3. **If the number at `left` is odd and the number at `right` is even**, swap these two numbers to place them in the correct partitions. Then move both pointers inward:\n",
    "   - Increment `left`.\n",
    "   - Decrement `right`."
   ]
  }
 ],
 "metadata": {
  "kernelspec": {
   "display_name": "Python 3 (ipykernel)",
   "language": "python",
   "name": "python3"
  },
  "language_info": {
   "codemirror_mode": {
    "name": "ipython",
    "version": 3
   },
   "file_extension": ".py",
   "mimetype": "text/x-python",
   "name": "python",
   "nbconvert_exporter": "python",
   "pygments_lexer": "ipython3",
   "version": "3.9.6"
  }
 },
 "nbformat": 4,
 "nbformat_minor": 5
}
