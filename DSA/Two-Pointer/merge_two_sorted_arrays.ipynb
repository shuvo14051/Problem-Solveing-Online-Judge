{
 "cells": [
  {
   "cell_type": "markdown",
   "id": "970bc98f-3082-45aa-8a39-d7ad7472a69e",
   "metadata": {},
   "source": [
    "# Problem: \n",
    "### Merge two sorted arrays into one sorted array.\n",
    "---\n",
    "- Approach: Use two pointers to traverse each array and compare elements."
   ]
  },
  {
   "cell_type": "code",
   "execution_count": null,
   "id": "f05da59c-b340-4542-aa23-e7346a15fd90",
   "metadata": {},
   "outputs": [],
   "source": []
  },
  {
   "cell_type": "code",
   "execution_count": null,
   "id": "cbba9dc8-e879-418a-b54a-e409557e0971",
   "metadata": {},
   "outputs": [],
   "source": []
  }
 ],
 "metadata": {
  "kernelspec": {
   "display_name": "Python 3 (ipykernel)",
   "language": "python",
   "name": "python3"
  },
  "language_info": {
   "codemirror_mode": {
    "name": "ipython",
    "version": 3
   },
   "file_extension": ".py",
   "mimetype": "text/x-python",
   "name": "python",
   "nbconvert_exporter": "python",
   "pygments_lexer": "ipython3",
   "version": "3.9.6"
  }
 },
 "nbformat": 4,
 "nbformat_minor": 5
}
