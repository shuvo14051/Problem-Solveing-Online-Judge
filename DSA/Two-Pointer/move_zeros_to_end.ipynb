{
 "cells": [
  {
   "cell_type": "markdown",
   "id": "3031feb4-72ba-4397-952b-c48d642250a9",
   "metadata": {},
   "source": [
    "<p style = \"text-align:center\"><b ><span style = \"color:red; font-size:40px\"> Leet 283 </span></b></p>\n",
    "<center><img src='imgs/283.png' height=400 width=500></center>"
   ]
  },
  {
   "cell_type": "markdown",
   "id": "4bb306e3-ff17-4229-9326-f7ed0b338498",
   "metadata": {},
   "source": [
    "# Example Walkthrough\n",
    "### Initial State:\n",
    "---\n",
    "- ar = [0, 1, 0, 3, 12]\n",
    "- L = 0\n",
    "- R = 1\n",
    "- n = 5\n",
    "\n",
    "### Step-by-Step Execution:\n",
    "---\n",
    "1. __ar[L] is 0, ar[R] is 1:__\n",
    "   - Swap ar[L] and ar[R]\n",
    "   - ar = [1, 0, 0, 3, 12]\n",
    "   - ar[L] != 0 so Increment L and R.\n",
    "   - L = 1, R = 2\n",
    "2. __ar[L] is 0, ar[R] is 0:__\n",
    "   - ar[R] is 0 we need a non zero so, Increment R.\n",
    "   - R = 3\n",
    "3. __ar[L] is 0, ar[R] is 3:__\n",
    "   - Swap ar[L] and ar[R].\n",
    "   - ar = [1, 3, 0, 0, 12]\n",
    "   - ar[L] != 0 so Increment L and R.\n",
    "   - L = 2, R = 4\n",
    "4. __ar[L] is 0, ar[R] is 12:__\n",
    "   - Swap ar[L] and ar[R].\n",
    "   - ar = [1, 3, 12, 0, 0]\n",
    "   - Increment L and R.\n",
    "   - L = 3, R = 5"
   ]
  },
  {
   "cell_type": "code",
   "execution_count": 5,
   "id": "bb06a29e-9d9a-4216-afbe-c7a0170642a1",
   "metadata": {},
   "outputs": [],
   "source": [
    "def move_zeros(ar):\n",
    "    L = 0\n",
    "    R = 1\n",
    "    n = len(ar)\n",
    "\n",
    "    while (R < n):\n",
    "        if ar[L]!=0:\n",
    "            L+=1\n",
    "            R+=1\n",
    "        elif ar[R] == 0:\n",
    "            R+=1\n",
    "        else:\n",
    "            ar[L], ar[R] = ar[R], ar[L]\n",
    "    return ar"
   ]
  },
  {
   "cell_type": "code",
   "execution_count": 6,
   "id": "06d66ba0-5944-499b-8379-2a6ddd9696c0",
   "metadata": {},
   "outputs": [
    {
     "name": "stdout",
     "output_type": "stream",
     "text": [
      "[1, 3, 12, 0, 0]\n"
     ]
    }
   ],
   "source": [
    "print(move_zeros([0,1,0,3,12]))"
   ]
  },
  {
   "cell_type": "markdown",
   "id": "53ed32d3-463b-48a1-9192-6b85707d702f",
   "metadata": {},
   "source": [
    "# More explanation\n",
    "## Move Zeros Function: If-Elif Block Breakdown\n",
    "The if-elif block in the `move_zeros` function is part of a loop that aims to move all the zeros in the input list (`ar`) to the end of the list while maintaining the order of non-zero elements.\n",
    "Here's the breakdown of the if-elif block:\n",
    "### First Condition: Non-Zero Element at L\n",
    "```python\n",
    "if ar[L] != 0:\n",
    "    L += 1\n",
    "    R += 1\n",
    "```\n",
    "\n",
    "- **Condition**: `ar[L] != 0`\n",
    "  - This checks if the current element at index L is not zero.\n",
    "- **Action**: `L += 1` and `R += 1`\n",
    "  - Both pointers, L and R, are incremented because the element at L is already in the correct position (non-zero elements are to remain in their relative order).\n",
    "  - Move on to check the next element.\n",
    "\n",
    "### Second Condition: Zero Element at R\n",
    "\n",
    "```python\n",
    "elif ar[R] == 0:\n",
    "    R += 1\n",
    "```\n",
    "\n",
    "- **Condition**: `ar[R] == 0`\n",
    "  - This checks if the element at the R pointer is zero.\n",
    "- **Action**: `R += 1`\n",
    "  - Increment the R pointer because a zero at R cannot help in resolving the zero at L.\n",
    "  - The program continues searching for a non-zero element that can be swapped with the zero at L.\n",
    "\n",
    "### Else Condition: Zero at L and Non-Zero at R\n",
    "\n",
    "If neither of the above conditions is true (i.e., `ar[L] == 0` and `ar[R] != 0`), the else block is executed:\n",
    "\n",
    "```Python\n",
    "else:\n",
    "    ar[L], ar[R] = ar[R], ar[L]\n",
    "```\n",
    "\n",
    "- **Condition**: This is the case when `ar[L]` is zero and `ar[R]` is non-zero.\n",
    "- **Action**: Swap the elements at L and R\n",
    "  - This moves the non-zero element to the left (correct position) and the zero to the right.\n",
    "  - Ensures that L is now correctly positioned.\n",
    "  - After the swap, the pointers remain unchanged for this iteration, so the loop will process the new values at L and R."
   ]
  },
  {
   "cell_type": "code",
   "execution_count": null,
   "id": "29a76de5-e627-4172-abf1-b94fa2a6f26c",
   "metadata": {},
   "outputs": [],
   "source": []
  },
  {
   "cell_type": "markdown",
   "id": "576439b9-4158-43a4-9ec9-081d7553cb67",
   "metadata": {},
   "source": [
    "# practice"
   ]
  },
  {
   "cell_type": "code",
   "execution_count": 1,
   "id": "345bd4d7-c762-4d8c-b768-0c86ad53dfd3",
   "metadata": {},
   "outputs": [
    {
     "data": {
      "text/plain": [
       "[1, 2, 4, 3, 1, 0, 0]"
      ]
     },
     "execution_count": 1,
     "metadata": {},
     "output_type": "execute_result"
    }
   ],
   "source": [
    "def move_zeroes(ar):\n",
    "    l = 0\n",
    "    r = 1\n",
    "    n = len(ar)\n",
    "\n",
    "    while (r<n):\n",
    "        if ar[l]!=0:\n",
    "            l+=1\n",
    "            r+=1\n",
    "        elif ar[r] == 0:\n",
    "            r+=1\n",
    "        else:\n",
    "            ar[l], ar[r] = ar[r], ar[l]\n",
    "\n",
    "    return ar\n",
    "move_zeroes([1,2,0,4,0,3,1])"
   ]
  },
  {
   "cell_type": "code",
   "execution_count": null,
   "id": "66e60893-11b5-40b5-8d11-e31df778cebd",
   "metadata": {},
   "outputs": [],
   "source": []
  }
 ],
 "metadata": {
  "kernelspec": {
   "display_name": "Python 3 (ipykernel)",
   "language": "python",
   "name": "python3"
  },
  "language_info": {
   "codemirror_mode": {
    "name": "ipython",
    "version": 3
   },
   "file_extension": ".py",
   "mimetype": "text/x-python",
   "name": "python",
   "nbconvert_exporter": "python",
   "pygments_lexer": "ipython3",
   "version": "3.9.6"
  }
 },
 "nbformat": 4,
 "nbformat_minor": 5
}
