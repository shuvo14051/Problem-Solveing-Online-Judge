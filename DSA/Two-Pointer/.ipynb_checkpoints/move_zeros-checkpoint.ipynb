{
 "cells": [
  {
   "cell_type": "markdown",
   "id": "4bb306e3-ff17-4229-9326-f7ed0b338498",
   "metadata": {},
   "source": [
    "# Example Walkthrough\n",
    "### Initial State:\n",
    "- ar = [0, 1, 0, 3, 12]\n",
    "- L = 0\n",
    "- R = 1\n",
    "- n = 5\n",
    "\n",
    "### Step-by-Step Execution:\n",
    "1. __ar[L] is 0, ar[R] is 1:__\n",
    "   - Swap ar[L] and ar[R]\n",
    "   - ar = [1, 0, 0, 3, 12]\n",
    "   - ar[L] != 0 so Increment L and R.\n",
    "   - L = 1, R = 2\n",
    "2. __ar[L] is 0, ar[R] is 0:__\n",
    "   - ar[R] is 0 we need a non zero so, Increment R.\n",
    "   - R = 3\n",
    "3. __ar[L] is 0, ar[R] is 3:__\n",
    "   - Swap ar[L] and ar[R].\n",
    "   - ar = [1, 3, 0, 0, 12]\n",
    "   - ar[L] != 0 so Increment L and R.\n",
    "   - L = 2, R = 4\n",
    "4. __ar[L] is 0, ar[R] is 12:__\n",
    "   - Swap ar[L] and ar[R].\n",
    "   - ar = [1, 3, 12, 0, 0]\n",
    "   - Increment L and R.\n",
    "   - L = 3, R = 5"
   ]
  },
  {
   "cell_type": "code",
   "execution_count": 5,
   "id": "bb06a29e-9d9a-4216-afbe-c7a0170642a1",
   "metadata": {},
   "outputs": [],
   "source": [
    "def move_zeros(ar):\n",
    "    L = 0\n",
    "    R = 1\n",
    "    n = len(ar)\n",
    "\n",
    "    while (R < n):\n",
    "        if ar[L]!=0:\n",
    "            L+=1\n",
    "            R+=1\n",
    "        elif ar[R] == 0:\n",
    "            R+=1\n",
    "        else:\n",
    "            ar[L], ar[R] = ar[R], ar[L]\n",
    "    return ar"
   ]
  },
  {
   "cell_type": "code",
   "execution_count": 6,
   "id": "06d66ba0-5944-499b-8379-2a6ddd9696c0",
   "metadata": {},
   "outputs": [
    {
     "name": "stdout",
     "output_type": "stream",
     "text": [
      "[1, 3, 12, 0, 0]\n"
     ]
    }
   ],
   "source": [
    "print(move_zeros([0,1,0,3,12]))"
   ]
  },
  {
   "cell_type": "code",
   "execution_count": null,
   "id": "345bd4d7-c762-4d8c-b768-0c86ad53dfd3",
   "metadata": {},
   "outputs": [],
   "source": []
  }
 ],
 "metadata": {
  "kernelspec": {
   "display_name": "Python 3 (ipykernel)",
   "language": "python",
   "name": "python3"
  },
  "language_info": {
   "codemirror_mode": {
    "name": "ipython",
    "version": 3
   },
   "file_extension": ".py",
   "mimetype": "text/x-python",
   "name": "python",
   "nbconvert_exporter": "python",
   "pygments_lexer": "ipython3",
   "version": "3.11.0"
  }
 },
 "nbformat": 4,
 "nbformat_minor": 5
}
