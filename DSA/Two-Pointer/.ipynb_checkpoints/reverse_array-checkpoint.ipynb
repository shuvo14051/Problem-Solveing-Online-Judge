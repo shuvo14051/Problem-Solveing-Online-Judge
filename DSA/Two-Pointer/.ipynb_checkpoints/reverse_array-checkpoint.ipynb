{
 "cells": [
  {
   "cell_type": "markdown",
   "id": "47e3ce00-3332-4cc2-ad3c-730211bb6c0d",
   "metadata": {},
   "source": [
    "# Reverse an array\n",
    "``` python\n",
    "def reverse_array(arr):\n",
    "    n = len(arr)\n",
    "    reverse = [0] * n # using extra space\n",
    "    for i in range(n):\n",
    "        reverse[n - i - 1] = arr[i]  \n",
    "    return reverse\n",
    "```\n",
    "- Time Complexity = $O(n)$\n",
    "- Space Complexity= $O(n)$\n",
    "## Goal:\n",
    "The space complexity can be O(1) using `Two pointer approach`\n",
    "- Time Complexity = $O(n)$\n",
    "- __Space Complexity= $O(1)$__"
   ]
  },
  {
   "cell_type": "code",
   "execution_count": 5,
   "id": "2a80d890-42d5-424c-84b5-ead8b3f148ae",
   "metadata": {},
   "outputs": [
    {
     "data": {
      "text/plain": [
       "[4, 3, 2, 1]"
      ]
     },
     "execution_count": 5,
     "metadata": {},
     "output_type": "execute_result"
    }
   ],
   "source": [
    "def reverse_array(arr):\n",
    "    L = 0\n",
    "    R = len(arr)-1\n",
    "    while L < R:\n",
    "        arr[L], arr[R] = arr[R], arr[L]\n",
    "        L+=1\n",
    "        R-=1\n",
    "    return arr\n",
    "reverse_array([1,2,3,4])"
   ]
  },
  {
   "cell_type": "code",
   "execution_count": null,
   "id": "4c408a53-afb1-41b5-b9ba-96b270a41600",
   "metadata": {},
   "outputs": [],
   "source": []
  }
 ],
 "metadata": {
  "kernelspec": {
   "display_name": "Python 3 (ipykernel)",
   "language": "python",
   "name": "python3"
  },
  "language_info": {
   "codemirror_mode": {
    "name": "ipython",
    "version": 3
   },
   "file_extension": ".py",
   "mimetype": "text/x-python",
   "name": "python",
   "nbconvert_exporter": "python",
   "pygments_lexer": "ipython3",
   "version": "3.9.6"
  }
 },
 "nbformat": 4,
 "nbformat_minor": 5
}
