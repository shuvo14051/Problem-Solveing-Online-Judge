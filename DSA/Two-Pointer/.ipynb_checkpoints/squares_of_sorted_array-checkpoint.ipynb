{
 "cells": [
  {
   "cell_type": "markdown",
   "id": "9308ef44-d4b3-4aa3-9786-1c3408c13125",
   "metadata": {},
   "source": [
    "<p style = \"text-align:center\"><b ><span style = \"color:red; font-size:40px\"> Leet 977 </span></b></p>\n",
    "<center><img src='imgs/977.png' height=400 width=500></center>\n",
    "\n",
    "```python\n",
    "# A solution that requires O(n log n) time\n",
    "class Solution:\n",
    "    def sortedSquares(self, nums):\n",
    "        squares = [i**2 for i in nums] # time complexity of O(n)\n",
    "        squares.sort() # O(n log n)\n",
    "        return squares\n",
    "    \n",
    "s = Solution()\n",
    "print(s.sortedSquares([-4,-1,0,3,10]))\n",
    "```\n",
    "- The list comprehension takes O(n), and sorting takes O(n log n).\n",
    "- Therefore, the overall time complexity of the function is O(n log n), as sorting dominates the squaring operation."
   ]
  },
  {
   "cell_type": "markdown",
   "id": "b8a8d2e4-bb6a-4d04-ab2d-b8ed65e77587",
   "metadata": {},
   "source": [
    "# Two pointer approach \n",
    "- Time complexity will become O(n)"
   ]
  },
  {
   "cell_type": "code",
   "execution_count": 4,
   "id": "a74f5dd6-6dd0-486e-a1d4-3a8364d9e54b",
   "metadata": {},
   "outputs": [
    {
     "name": "stdout",
     "output_type": "stream",
     "text": [
      "[100, 16, 9, 1, 0]\n"
     ]
    }
   ],
   "source": [
    "class Solution:\n",
    "    def sortedSquares(self, nums):\n",
    "        L = 0\n",
    "        R = len(nums) - 1\n",
    "        results = []\n",
    "        while L<=R:\n",
    "            if abs(nums[L]) > abs(nums[R]): \n",
    "                # abs() is very imporant here\n",
    "                # if abs() is not used the order will be affected\n",
    "                results.append(nums[L]**2)\n",
    "                L+=1\n",
    "            else:\n",
    "                results.append(nums[R]**2)\n",
    "                R-=1\n",
    "        return results\n",
    "    \n",
    "s = Solution()\n",
    "print(s.sortedSquares([-4,-1,0,3,10]))"
   ]
  },
  {
   "cell_type": "code",
   "execution_count": null,
   "id": "e4f6ff2f-644f-4286-9532-2d291ed00d58",
   "metadata": {},
   "outputs": [],
   "source": []
  }
 ],
 "metadata": {
  "kernelspec": {
   "display_name": "Python 3 (ipykernel)",
   "language": "python",
   "name": "python3"
  },
  "language_info": {
   "codemirror_mode": {
    "name": "ipython",
    "version": 3
   },
   "file_extension": ".py",
   "mimetype": "text/x-python",
   "name": "python",
   "nbconvert_exporter": "python",
   "pygments_lexer": "ipython3",
   "version": "3.9.6"
  }
 },
 "nbformat": 4,
 "nbformat_minor": 5
}
