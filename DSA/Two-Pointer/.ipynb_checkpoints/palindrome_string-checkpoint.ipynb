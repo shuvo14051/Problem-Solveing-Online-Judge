{
 "cells": [
  {
   "cell_type": "markdown",
   "id": "4b3c6caf-0896-4681-83be-4d8f64a24a58",
   "metadata": {},
   "source": [
    "- Time Complexity: O(n)\n",
    "- Space Complexity: O(1)"
   ]
  },
  {
   "cell_type": "code",
   "execution_count": 9,
   "id": "150d51c6-d0ae-41b0-9eef-9cf7cc26eb5e",
   "metadata": {},
   "outputs": [],
   "source": [
    "def palindrome(s):\n",
    "    start = 0\n",
    "    end = len(s)-1\n",
    "    while start < end:\n",
    "        if s[start].lower() != s[end].lower():\n",
    "            return False\n",
    "        else:\n",
    "            start+=1\n",
    "            end -=1\n",
    "    return True"
   ]
  },
  {
   "cell_type": "code",
   "execution_count": 10,
   "id": "c2d0fe1e-257a-439d-b33d-8a02eef8d386",
   "metadata": {},
   "outputs": [
    {
     "data": {
      "text/plain": [
       "True"
      ]
     },
     "execution_count": 10,
     "metadata": {},
     "output_type": "execute_result"
    }
   ],
   "source": [
    "s = \"racecar\"\n",
    "palindrome(s)"
   ]
  },
  {
   "cell_type": "code",
   "execution_count": null,
   "id": "3def0104-05f4-43bf-bb61-9c925866bad4",
   "metadata": {},
   "outputs": [],
   "source": []
  },
  {
   "cell_type": "code",
   "execution_count": null,
   "id": "899eb1ca-810d-4ec6-a86d-ceb445257eb6",
   "metadata": {},
   "outputs": [],
   "source": []
  }
 ],
 "metadata": {
  "kernelspec": {
   "display_name": "Python 3 (ipykernel)",
   "language": "python",
   "name": "python3"
  },
  "language_info": {
   "codemirror_mode": {
    "name": "ipython",
    "version": 3
   },
   "file_extension": ".py",
   "mimetype": "text/x-python",
   "name": "python",
   "nbconvert_exporter": "python",
   "pygments_lexer": "ipython3",
   "version": "3.9.6"
  }
 },
 "nbformat": 4,
 "nbformat_minor": 5
}
