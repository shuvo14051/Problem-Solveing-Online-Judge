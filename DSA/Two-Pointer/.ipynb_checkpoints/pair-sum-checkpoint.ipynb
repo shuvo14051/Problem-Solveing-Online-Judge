{
 "cells": [
  {
   "cell_type": "markdown",
   "id": "96ecba97-9a43-4d19-bd60-528f9256dd3c",
   "metadata": {},
   "source": [
    "## Two Pointer Technique for Finding Pair Sum\n",
    "\n",
    "### Problem Statement\n",
    "\n",
    "Given an array `ar = [2, 4, 6, 8, 10]`, we want to determine if there exists a pair of elements in this array that sums up to a target value.\n",
    "\n",
    "### Approach\n",
    "\n",
    "We'll use the two-pointer technique to efficiently solve this problem:\n",
    "\n",
    "1. **Initialize Pointers**:\n",
    "   - `pointer_1` starts at the beginning of the array (`0`).\n",
    "   - `pointer_2` starts at the end of the array (`len(ar) - 1`).\n",
    "\n",
    "2. **Iteration Process**:\n",
    "   - Calculate the sum `s` of the elements at `pointer_1` and `pointer_2`.\n",
    "   - Check conditions based on `s` and `target`:\n",
    "     - If `s == target`, return `True` because we found a pair (`ar[pointer_1]` and `ar[pointer_2]`) that sums up to `target`.\n",
    "     - If `s < target`, increment `pointer_1` (`pointer_1 += 1`) to increase the sum (since the array is sorted in ascending order).\n",
    "     - If `s > target`, decrement `pointer_2` (`pointer_2 -= 1`) to decrease the sum.\n",
    "\n",
    "3. **Loop Continuation**:\n",
    "   - Continue the iteration (`while pointer_1 < pointer_2`) until `pointer_1` equals or exceeds `pointer_2`.\n",
    "   - If no such pair is found (`pointer_1 >= pointer_2`), return `False`.\n",
    "\n",
    "### Example\n",
    "\n",
    "Let's use `ar = [2, 4, 6, 8, 10]` and `target = 12`:\n",
    "\n",
    "- **Initial State**: `pointer_1 = 0`, `pointer_2 = 4`.\n",
    "- **Iteration 1**: `ar[0] + ar[4] = 2 + 10 = 12`.\n",
    "  - Condition met (`s == target`), return `True`.\n",
    "\n",
    "In this example, the function will return `True` because there exists a pair (`2` and `10`) in the array `ar` that sums up to `12`.\n"
   ]
  },
  {
   "cell_type": "markdown",
   "id": "764c8ed0-a1f9-44f1-95bf-e8e82fb4e313",
   "metadata": {},
   "source": [
    "# Return True if there is a pair sum to target or False"
   ]
  },
  {
   "cell_type": "code",
   "execution_count": 7,
   "id": "f627e796-52d6-4708-b7f7-ca01d41bb698",
   "metadata": {},
   "outputs": [],
   "source": [
    "def pair_sum_two_pointer(ar, target):\n",
    "    count = 0\n",
    "    pointer_1 = 0\n",
    "    pointer_2 = len(ar) - 1\n",
    "    \n",
    "    while pointer_1 < pointer_2:\n",
    "        s = ar[pointer_1] + ar[pointer_2]\n",
    "        if s == target:\n",
    "            return True\n",
    "        elif s < target:\n",
    "            pointer_1 += 1\n",
    "        else:\n",
    "            pointer_2 -= 1\n",
    "    return False"
   ]
  },
  {
   "cell_type": "code",
   "execution_count": 8,
   "id": "20be86bd-bc39-4753-83b6-72f16607bc27",
   "metadata": {},
   "outputs": [
    {
     "name": "stdout",
     "output_type": "stream",
     "text": [
      "True\n"
     ]
    }
   ],
   "source": [
    "print(pair_sum_two_pointer([1,2,3,4,5,6], 6))"
   ]
  },
  {
   "cell_type": "markdown",
   "id": "ed7bab87-60db-4836-b53f-fdec4eca6429",
   "metadata": {},
   "source": [
    "# Return the number of pairs that satisfies the condition"
   ]
  },
  {
   "cell_type": "code",
   "execution_count": 20,
   "id": "bd7e9316-3f7d-4973-880c-6e3c1c792361",
   "metadata": {},
   "outputs": [],
   "source": [
    "def pair_sum_two_pointer(ar, target):\n",
    "    count = 0\n",
    "    pointer_1 = 0\n",
    "    pointer_2 = len(ar) - 1\n",
    "    \n",
    "    while pointer_1 < pointer_2:\n",
    "        s = ar[pointer_1] + ar[pointer_2]\n",
    "        if s == target:\n",
    "            count += 1\n",
    "            pointer_1 += 1\n",
    "            pointer_2 -= 1\n",
    "        elif s < target:\n",
    "            pointer_1 += 1\n",
    "        else:\n",
    "            pointer_2 -= 1\n",
    "            \n",
    "    return count"
   ]
  },
  {
   "cell_type": "code",
   "execution_count": 21,
   "id": "cd292a08-761b-4d1b-987f-e967e80a2f2b",
   "metadata": {},
   "outputs": [
    {
     "name": "stdout",
     "output_type": "stream",
     "text": [
      "2\n"
     ]
    }
   ],
   "source": [
    "print(pair_sum_two_pointer([1,2,3,4,5,6], 6))"
   ]
  },
  {
   "cell_type": "markdown",
   "id": "fb5c7d11-64ba-4210-b4b4-be1d11a75cd5",
   "metadata": {},
   "source": [
    "# Return the pairs that satisfies the condition"
   ]
  },
  {
   "cell_type": "code",
   "execution_count": 23,
   "id": "391375d0-7ada-4269-8987-de973b63aedb",
   "metadata": {},
   "outputs": [],
   "source": [
    "def pair_sum_two_pointer(ar, target):\n",
    "    pairs = []\n",
    "    pointer_1 = 0\n",
    "    pointer_2 = len(ar) - 1\n",
    "    \n",
    "    while pointer_1 < pointer_2:\n",
    "        s = ar[pointer_1] + ar[pointer_2]\n",
    "        if s == target:\n",
    "            pairs.append((ar[pointer_1], ar[pointer_2]))\n",
    "            pointer_1 += 1\n",
    "            pointer_2 -= 1\n",
    "        elif s < target:\n",
    "            pointer_1 += 1\n",
    "        else:\n",
    "            pointer_2 -= 1\n",
    "            \n",
    "    return pairs"
   ]
  },
  {
   "cell_type": "code",
   "execution_count": 25,
   "id": "70c147c3-16e8-441d-b313-0ff5b99e9578",
   "metadata": {},
   "outputs": [
    {
     "name": "stdout",
     "output_type": "stream",
     "text": [
      "[(1, 5), (2, 4)]\n"
     ]
    }
   ],
   "source": [
    "print(pair_sum_two_pointer([1,2,3,4,5,6], 6))"
   ]
  },
  {
   "cell_type": "code",
   "execution_count": null,
   "id": "ff51f53a-d5bc-4f4e-a6e4-b74af1457ee8",
   "metadata": {},
   "outputs": [],
   "source": []
  }
 ],
 "metadata": {
  "kernelspec": {
   "display_name": "Python 3 (ipykernel)",
   "language": "python",
   "name": "python3"
  },
  "language_info": {
   "codemirror_mode": {
    "name": "ipython",
    "version": 3
   },
   "file_extension": ".py",
   "mimetype": "text/x-python",
   "name": "python",
   "nbconvert_exporter": "python",
   "pygments_lexer": "ipython3",
   "version": "3.11.0"
  }
 },
 "nbformat": 4,
 "nbformat_minor": 5
}
