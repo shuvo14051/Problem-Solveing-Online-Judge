{
 "cells": [
  {
   "cell_type": "markdown",
   "id": "a70e28b1-e045-4b5a-a158-a49fab459894",
   "metadata": {},
   "source": [
    "<p style = \"text-align:center\"><b ><span style = \"color:red; font-size:40px\"> Leet 11 </span></b></p>\n",
    "<center><img src='imgs/11.png' height=500 width=600></center>"
   ]
  },
  {
   "cell_type": "markdown",
   "id": "8f8530dd-aeec-4e3c-bec9-134a850d8d55",
   "metadata": {},
   "source": [
    "# Two pointer solution"
   ]
  },
  {
   "cell_type": "code",
   "execution_count": 7,
   "id": "d2bac10d-c5e7-4de9-aef1-bdbbbdf01821",
   "metadata": {},
   "outputs": [],
   "source": [
    "class Solution:\n",
    "    def maxArea(self, height):\n",
    "        left = 0\n",
    "        right = len(height)-1\n",
    "        max_area = 0\n",
    "        while left < right:\n",
    "            width = right-left\n",
    "            current_area = min(height[left],height[right]) * width\n",
    "            max_area = max(max_area, current_area)\n",
    "\n",
    "            if height[left] < height[right]:\n",
    "                left+=1\n",
    "            else:\n",
    "                right-=1\n",
    "        return max_area"
   ]
  },
  {
   "cell_type": "code",
   "execution_count": 8,
   "id": "9cba200a-3223-43a2-90d8-befba59d7061",
   "metadata": {},
   "outputs": [
    {
     "name": "stdout",
     "output_type": "stream",
     "text": [
      "49\n"
     ]
    }
   ],
   "source": [
    "s = Solution()\n",
    "print(s.maxArea( [1, 8, 6, 2, 5, 4, 8, 3, 7]))"
   ]
  },
  {
   "cell_type": "code",
   "execution_count": null,
   "id": "66d08da1-7e34-4351-a3c1-b50bb0be29c1",
   "metadata": {},
   "outputs": [],
   "source": []
  }
 ],
 "metadata": {
  "kernelspec": {
   "display_name": "Python 3 (ipykernel)",
   "language": "python",
   "name": "python3"
  },
  "language_info": {
   "codemirror_mode": {
    "name": "ipython",
    "version": 3
   },
   "file_extension": ".py",
   "mimetype": "text/x-python",
   "name": "python",
   "nbconvert_exporter": "python",
   "pygments_lexer": "ipython3",
   "version": "3.9.6"
  }
 },
 "nbformat": 4,
 "nbformat_minor": 5
}
