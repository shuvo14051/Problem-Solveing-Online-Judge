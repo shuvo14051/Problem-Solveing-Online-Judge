{
 "cells": [
  {
   "cell_type": "markdown",
   "id": "1266a822-da99-4762-8765-60baf500e774",
   "metadata": {},
   "source": [
    "# Longest Continuous Sum"
   ]
  },
  {
   "cell_type": "code",
   "execution_count": 2,
   "id": "03582590-ce5f-4dae-82ac-afd0d8581c55",
   "metadata": {},
   "outputs": [],
   "source": [
    "def largest_cont_sum(arr):\n",
    "\n",
    "    if len(arr) == 0:\n",
    "        return 0\n",
    "\n",
    "    max_sum = current_sum = arr[0]\n",
    "\n",
    "    for num in arr[1:]:\n",
    "        current_sum = max(current_sum+num, num)\n",
    "        max_sum = max(current_sum, max_sum)\n",
    "\n",
    "    return max_sum"
   ]
  },
  {
   "cell_type": "code",
   "execution_count": 8,
   "id": "ae15c522-f157-43c1-a9c9-427a65cac1cd",
   "metadata": {},
   "outputs": [
    {
     "data": {
      "text/plain": [
       "9"
      ]
     },
     "execution_count": 8,
     "metadata": {},
     "output_type": "execute_result"
    }
   ],
   "source": [
    "largest_cont_sum([1,2,-3,4,5])"
   ]
  },
  {
   "cell_type": "code",
   "execution_count": null,
   "id": "6d5f7f2d-ca42-4964-b56a-ba1b01a69767",
   "metadata": {},
   "outputs": [],
   "source": []
  }
 ],
 "metadata": {
  "kernelspec": {
   "display_name": "Python 3 (ipykernel)",
   "language": "python",
   "name": "python3"
  },
  "language_info": {
   "codemirror_mode": {
    "name": "ipython",
    "version": 3
   },
   "file_extension": ".py",
   "mimetype": "text/x-python",
   "name": "python",
   "nbconvert_exporter": "python",
   "pygments_lexer": "ipython3",
   "version": "3.11.0"
  }
 },
 "nbformat": 4,
 "nbformat_minor": 5
}
