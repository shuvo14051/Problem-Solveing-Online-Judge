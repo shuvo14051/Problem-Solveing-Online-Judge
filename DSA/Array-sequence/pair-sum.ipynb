{
 "cells": [
  {
   "cell_type": "markdown",
   "id": "8558c3df-f36a-4b97-9ba0-346361a59d0e",
   "metadata": {},
   "source": [
    "# Pair sum"
   ]
  },
  {
   "cell_type": "code",
   "execution_count": 4,
   "id": "47cbb54d-bffc-42d5-84b5-84b557192dfe",
   "metadata": {},
   "outputs": [],
   "source": [
    "def pair_sum(arr, k):\n",
    "    if len(arr)<2:\n",
    "        return\n",
    "\n",
    "    # sets for tracking\n",
    "    seen = set()\n",
    "    output = set()\n",
    "\n",
    "    for num in arr:\n",
    "        target = k - num\n",
    "        if target not in seen:\n",
    "            seen.add(num)\n",
    "        else:\n",
    "            output.add((min(num, target), max(num, target)))\n",
    "    return (len(output), output)"
   ]
  },
  {
   "cell_type": "code",
   "execution_count": 5,
   "id": "25189168-2e8d-4b5c-9e1a-5cd4872595fc",
   "metadata": {},
   "outputs": [
    {
     "name": "stdout",
     "output_type": "stream",
     "text": [
      "Number of pairs: 2. \n",
      "Pairs: {(1, 3), (2, 2)}\n"
     ]
    }
   ],
   "source": [
    "num, pairs = pair_sum([1,3,2,2],4)\n",
    "print(\"Number of pairs: {}. \\nPairs: {}\".format(num, pairs))"
   ]
  },
  {
   "cell_type": "markdown",
   "id": "dac36939",
   "metadata": {},
   "source": [
    "# Another way"
   ]
  },
  {
   "cell_type": "code",
   "execution_count": null,
   "id": "42803ceb",
   "metadata": {},
   "outputs": [],
   "source": [
    "def twoSum(self, nums, target):\n",
    "    seen = {}  \n",
    "    for i, num in enumerate(nums):\n",
    "        complement = target - num\n",
    "        if complement in seen:\n",
    "            return (seen[complement], i)  \n",
    "        seen[num] = i  \n",
    "    return None"
   ]
  },
  {
   "cell_type": "markdown",
   "id": "50291f1b-2723-47f7-8679-5dc3efa48598",
   "metadata": {},
   "source": [
    "## Practice"
   ]
  },
  {
   "cell_type": "code",
   "execution_count": 9,
   "id": "bfc37dbb-2c81-495c-870a-ca445ca206a8",
   "metadata": {},
   "outputs": [],
   "source": [
    "def pair_sum(arr, k):\n",
    "    if len(arr)<2:\n",
    "        return \n",
    "    seen = set()\n",
    "    output = set()\n",
    "    for num in arr:\n",
    "        target = k-num\n",
    "        if target not in seen:\n",
    "            seen.add(num)\n",
    "        else:\n",
    "            pair = (min(target,num) , max(target,num))\n",
    "            output.add(pair)\n",
    "    return output\n"
   ]
  },
  {
   "cell_type": "code",
   "execution_count": 13,
   "id": "8c8026a5-90f2-44c3-9228-b05f07817469",
   "metadata": {},
   "outputs": [
    {
     "data": {
      "text/plain": [
       "{(1, 3), (2, 2)}"
      ]
     },
     "execution_count": 13,
     "metadata": {},
     "output_type": "execute_result"
    }
   ],
   "source": [
    "pair_sum([1,3,2,2],4)"
   ]
  },
  {
   "cell_type": "code",
   "execution_count": null,
   "id": "728444ea-ee60-4a14-b7ac-49090b07b7cd",
   "metadata": {},
   "outputs": [],
   "source": []
  }
 ],
 "metadata": {
  "kernelspec": {
   "display_name": "Python 3 (ipykernel)",
   "language": "python",
   "name": "python3"
  },
  "language_info": {
   "codemirror_mode": {
    "name": "ipython",
    "version": 3
   },
   "file_extension": ".py",
   "mimetype": "text/x-python",
   "name": "python",
   "nbconvert_exporter": "python",
   "pygments_lexer": "ipython3",
   "version": "3.11.0"
  }
 },
 "nbformat": 4,
 "nbformat_minor": 5
}
