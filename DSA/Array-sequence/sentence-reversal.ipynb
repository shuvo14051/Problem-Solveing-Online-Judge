{
 "cells": [
  {
   "cell_type": "code",
   "execution_count": null,
   "id": "bda525c3-b29b-4703-b422-fbe24bf0542a",
   "metadata": {},
   "outputs": [],
   "source": []
  }
 ],
 "metadata": {
  "kernelspec": {
   "display_name": "",
   "name": ""
  },
  "language_info": {
   "name": ""
  }
 },
 "nbformat": 4,
 "nbformat_minor": 5
}
