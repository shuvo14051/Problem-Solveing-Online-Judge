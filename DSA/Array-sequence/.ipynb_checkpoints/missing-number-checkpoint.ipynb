{
 "cells": [
  {
   "cell_type": "markdown",
   "id": "3fcab5dc-6337-4f5b-ad2b-70c782f94957",
   "metadata": {},
   "source": [
    "# My approach"
   ]
  },
  {
   "cell_type": "code",
   "execution_count": 1,
   "id": "44b74680-dbc1-4bdc-a32c-581a4a89df46",
   "metadata": {},
   "outputs": [
    {
     "data": {
      "text/plain": [
       "1"
      ]
     },
     "execution_count": 1,
     "metadata": {},
     "output_type": "execute_result"
    }
   ],
   "source": [
    "def missing_number(nums1, nums2):\n",
    "   return sum(nums1) - sum(nums2)\n",
    "\n",
    "missing_number([1,2,3,4], [2,3,4])"
   ]
  },
  {
   "cell_type": "markdown",
   "id": "5b633587-8548-418e-a5d8-abd9eae75b5b",
   "metadata": {},
   "source": [
    "# Hash table"
   ]
  },
  {
   "cell_type": "code",
   "execution_count": 3,
   "id": "542cb840-ae5c-4a9e-bc12-7631b6ef2bf3",
   "metadata": {},
   "outputs": [
    {
     "data": {
      "text/plain": [
       "4"
      ]
     },
     "execution_count": 3,
     "metadata": {},
     "output_type": "execute_result"
    }
   ],
   "source": [
    "from collections import defaultdict\n",
    "\n",
    "def finder(arr1, arr2):\n",
    "    \n",
    "    d = defaultdict(int)\n",
    "    \n",
    "    for num in arr2:\n",
    "        d[num] += 1\n",
    "    \n",
    "    for num in arr1:\n",
    "        if d[num] == 0:\n",
    "            return num\n",
    "        else:\n",
    "            d[num] -= 1\n",
    "    return \"No number is missing\"\n",
    "finder([1,2,3,4], [2,3,1])"
   ]
  },
  {
   "cell_type": "markdown",
   "id": "e1c28657-5999-47a7-a0ca-394c24208683",
   "metadata": {},
   "source": [
    "# XOR trick\n",
    "\n",
    "- After iterating through all elements in the combined array, the result will hold the unique number that appears in one array but not in the other.\n",
    "- This works because numbers that appear in both arrays will cancel each other out (since $𝑎 ⊕ 𝑎 = 0$), leaving only the unique number.\n"
   ]
  },
  {
   "cell_type": "code",
   "execution_count": 4,
   "id": "30e0c2dd-4d27-4188-a94a-91ea0f9cd35b",
   "metadata": {},
   "outputs": [
    {
     "data": {
      "text/plain": [
       "4"
      ]
     },
     "execution_count": 4,
     "metadata": {},
     "output_type": "execute_result"
    }
   ],
   "source": [
    "def finder2(ar1, ar2):\n",
    "    result = 0\n",
    "    for num in ar1+ar2:\n",
    "        result = num^result\n",
    "\n",
    "    return result\n",
    "\n",
    "finder([1,2,3,4], [2,3,1])"
   ]
  },
  {
   "cell_type": "code",
   "execution_count": null,
   "id": "bb8b9cf8-3a2b-4712-8dd5-c3b7ef435efd",
   "metadata": {},
   "outputs": [],
   "source": []
  }
 ],
 "metadata": {
  "kernelspec": {
   "display_name": "Python 3 (ipykernel)",
   "language": "python",
   "name": "python3"
  },
  "language_info": {
   "codemirror_mode": {
    "name": "ipython",
    "version": 3
   },
   "file_extension": ".py",
   "mimetype": "text/x-python",
   "name": "python",
   "nbconvert_exporter": "python",
   "pygments_lexer": "ipython3",
   "version": "3.11.0"
  }
 },
 "nbformat": 4,
 "nbformat_minor": 5
}
