{
 "cells": [
  {
   "cell_type": "markdown",
   "id": "bd7f4c15-c3c3-4ac1-a7f0-2cb9bc29f008",
   "metadata": {},
   "source": [
    "# Basic approach"
   ]
  },
  {
   "cell_type": "code",
   "execution_count": 1,
   "id": "dc5ea7b4-311d-4f31-aa89-3126e0dc8c1d",
   "metadata": {},
   "outputs": [],
   "source": [
    "def anagram(s1, s2):\n",
    "    s1 = s1.replace(\" \",\"\").lower()\n",
    "    s2 = s2.replace(\" \",\"\").lower()\n",
    "\n",
    "    return sorted(s1) == sorted(s2)"
   ]
  },
  {
   "cell_type": "code",
   "execution_count": 2,
   "id": "9476f9f6-11c2-4490-9e79-be32b01e170f",
   "metadata": {},
   "outputs": [
    {
     "data": {
      "text/plain": [
       "True"
      ]
     },
     "execution_count": 2,
     "metadata": {},
     "output_type": "execute_result"
    }
   ],
   "source": [
    "anagram(\"shuvoji the boss\", \"boss shuvo ji the\")"
   ]
  },
  {
   "cell_type": "markdown",
   "id": "5b3382d5-dc3f-44f7-b07f-394dfc56c6ca",
   "metadata": {},
   "source": [
    "# More manual way"
   ]
  },
  {
   "cell_type": "code",
   "execution_count": 3,
   "id": "2fd4b930-3237-4be4-b952-59a80fd2dc3d",
   "metadata": {},
   "outputs": [],
   "source": [
    "def anagram2(s1, s2):\n",
    "    s1 = s1.replace(\" \",\"\").lower()\n",
    "    s2 = s2.replace(\" \",\"\").lower()\n",
    "\n",
    "    if len(s1) != len(s2):\n",
    "        return False\n",
    "\n",
    "    count = {}\n",
    "\n",
    "    for letter in s1:\n",
    "        if letter in count:\n",
    "            count[letter] += 1\n",
    "        else:\n",
    "            count[letter] = 1\n",
    "            \n",
    "    for letter in s2:\n",
    "        if letter in count:\n",
    "            count[letter] -= 1\n",
    "        else:\n",
    "            count[letter] = 1\n",
    "\n",
    "    for k in count:\n",
    "        if count[k] != 0:\n",
    "            return False\n",
    "    return True"
   ]
  },
  {
   "cell_type": "code",
   "execution_count": 4,
   "id": "0e104952-303f-4a2b-86ef-b3d36a17f41d",
   "metadata": {},
   "outputs": [
    {
     "data": {
      "text/plain": [
       "True"
      ]
     },
     "execution_count": 4,
     "metadata": {},
     "output_type": "execute_result"
    }
   ],
   "source": [
    "anagram2(\"shuvoji the boss\", \"boss shuvo ji the\")"
   ]
  },
  {
   "cell_type": "code",
   "execution_count": null,
   "id": "72a3cb72-f456-4d4b-9f58-a5f1f3dc0713",
   "metadata": {},
   "outputs": [],
   "source": []
  }
 ],
 "metadata": {
  "kernelspec": {
   "display_name": "Python 3 (ipykernel)",
   "language": "python",
   "name": "python3"
  },
  "language_info": {
   "codemirror_mode": {
    "name": "ipython",
    "version": 3
   },
   "file_extension": ".py",
   "mimetype": "text/x-python",
   "name": "python",
   "nbconvert_exporter": "python",
   "pygments_lexer": "ipython3",
   "version": "3.11.0"
  }
 },
 "nbformat": 4,
 "nbformat_minor": 5
}
