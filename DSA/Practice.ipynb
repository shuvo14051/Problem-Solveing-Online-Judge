{
 "cells": [
  {
   "cell_type": "code",
   "execution_count": 1,
   "id": "cbc33e43-b072-45ed-b17f-693c08bf765a",
   "metadata": {},
   "outputs": [
    {
     "name": "stdout",
     "output_type": "stream",
     "text": [
      "-90-->-90-->0-->1-->50-->100-->None\n"
     ]
    }
   ],
   "source": [
    "class Node:\n",
    "    def __init__(self, data):\n",
    "        self.data = data\n",
    "        self.next = None\n",
    "\n",
    "class SinglyLinkedList:\n",
    "    def __init__(self):\n",
    "        self.head = None\n",
    "        self.tail = None\n",
    "        self.size = 0\n",
    "\n",
    "    def append_at_end(self, data):\n",
    "        node = Node(data)\n",
    "        \n",
    "        if self.tail:\n",
    "            self.tail.next = node\n",
    "            self.tail = node\n",
    "        else:\n",
    "            self.head = node\n",
    "            self.tail = node\n",
    "\n",
    "        self.size += 1\n",
    "\n",
    "    def append_at_front(self, data):\n",
    "        node = Node(data)\n",
    "        \n",
    "        if self.head:\n",
    "            node.next = self.head\n",
    "            self.head = node\n",
    "        else:\n",
    "            self.head = node\n",
    "            self.tail = node\n",
    "        self.size +=1\n",
    "\n",
    "    def append_at_middle(self, position, data):\n",
    "        if position < 0 or position > self.size:\n",
    "            raise IndexError(\"The position is not valid\")\n",
    "            \n",
    "        elif position == 0:\n",
    "            self.append_at_front(data)\n",
    "            \n",
    "        elif position == self.size:\n",
    "            self.append_at_end(data)\n",
    "        \n",
    "        node = Node(data)\n",
    "        current = self.head\n",
    "        for _ in range(position-1):\n",
    "            current = current.next\n",
    "        node.next = current.next\n",
    "        current.next = node\n",
    "        self.size += 1\n",
    "\n",
    "    def display(self):\n",
    "        current = self.head\n",
    "        while current:\n",
    "            print(current.data, end=\"-->\")\n",
    "            current = current.next\n",
    "        print(\"None\")\n",
    "\n",
    "\n",
    "s = SinglyLinkedList()\n",
    "s.append_at_end(50)\n",
    "s.append_at_end(100)\n",
    "s.append_at_front(1)\n",
    "s.append_at_front(0)\n",
    "s.append_at_middle(0,-90)\n",
    "s.display()\n"
   ]
  },
  {
   "cell_type": "code",
   "execution_count": 2,
   "id": "7b19aee2-d7c3-4359-b35d-9e3af4a54076",
   "metadata": {},
   "outputs": [
    {
     "data": {
      "text/plain": [
       "6"
      ]
     },
     "execution_count": 2,
     "metadata": {},
     "output_type": "execute_result"
    }
   ],
   "source": [
    "s.size"
   ]
  },
  {
   "cell_type": "code",
   "execution_count": null,
   "id": "6d97f00b-c0f8-465b-8942-400b8fefd198",
   "metadata": {},
   "outputs": [],
   "source": []
  }
 ],
 "metadata": {
  "kernelspec": {
   "display_name": "Python 3 (ipykernel)",
   "language": "python",
   "name": "python3"
  },
  "language_info": {
   "codemirror_mode": {
    "name": "ipython",
    "version": 3
   },
   "file_extension": ".py",
   "mimetype": "text/x-python",
   "name": "python",
   "nbconvert_exporter": "python",
   "pygments_lexer": "ipython3",
   "version": "3.11.0"
  }
 },
 "nbformat": 4,
 "nbformat_minor": 5
}
