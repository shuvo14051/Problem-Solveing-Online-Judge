{
 "cells": [
  {
   "cell_type": "markdown",
   "metadata": {},
   "source": [
    "# Node class"
   ]
  },
  {
   "cell_type": "code",
   "execution_count": 1,
   "metadata": {
    "id": "4kDTBBaGeGiw"
   },
   "outputs": [],
   "source": [
    "class Node:\n",
    "    def __init__(self, data):        \n",
    "        self.data = data\n",
    "        self.next = None"
   ]
  },
  {
   "cell_type": "markdown",
   "metadata": {},
   "source": [
    "## Explain `append_at_end()` with example\n",
    "\n",
    "Updating both `self.tail.next` and `self.tail` is necessary to maintain the integrity of the linked list and ensure that the new node is correctly appended at the end of the list. Here's why each update is needed: <br />\n",
    "\n",
    "1. __Initial State:__\n",
    "   - Suppose we have an existing singly linked list with the nodes `A -> B -> C`. In this list:\n",
    "       - `self.head` points to node `A`\n",
    "       - `self.tail` points to node `C`\n",
    "       - Node `A` points to node `B`\n",
    "       - Node `B` points to node `C`\n",
    "       - Node `C` points to None (since it's the last node)\n",
    "        \n",
    "2. __Step-by-Step Example: Appending Node `D`:__\n",
    "   1. __Create a new node `D`__\n",
    "      - A new node `D` is created with its next attribute set to `None`.\n",
    "   2. __Current State Before Appending:__\n",
    "      - `self.head` -> `A`\n",
    "      - `A.next` -> `B`\n",
    "      - `B.next` -> `C`\n",
    "      - `C.next` -> `None`\n",
    "      - `self.tail` -> `C`\n",
    "      - New node `D` -> `None`\n",
    "    3. __Updating self.tail.next:__\n",
    "       - We set `self.tail.next = node` (where node is the new node `D`)\n",
    "       - This means `C.next` now points to `D`. <br>\n",
    "       The list now looks like this: <br >\n",
    "       - `A -> B -> C -> D`\n",
    "       - `C.next` -> `D`\n",
    "       - `D.next` -> `None`\n",
    "       - But `self.tail` still points to `C`\n",
    "    4. __Updating `self.tail`:__\n",
    "       - We set `self.tail = node` (where node is the new node `D`).\n",
    "       - This means `self.tail` now points to `D`.\n",
    "      \n",
    "3. __If we didn't update `self.tail.next`:__\n",
    "    - The node `C` would not point to the new node `D`, breaking the list.\n",
    "    - The list would incorrectly look like `A -> B -> C`, and `D` would be disconnected.\n",
    "  \n",
    "4. If we didn't update `self.tail`:\n",
    "   - The tail pointer would still point to `C`, which is no longer the last node.\n",
    "   - Future operations relying on self.tail would incorrectly reference `C` instead of `D`.\n"
   ]
  },
  {
   "cell_type": "markdown",
   "metadata": {},
   "source": [
    "## Explain append_at_beginning() with example\n",
    "\n",
    "1. __Initial State:__\n",
    "   - The linked list is empty (`head` is `None`).\n",
    "        \n",
    "2. __Appending 10:__\n",
    "   - Call `append_at_beginning(10)`\n",
    "   - Since the list is empty, a new node with data 10 is created. This node becomes both the `head` and the `tail` of the list.\n",
    "   - List now: 10\n",
    "3. __Appending 20:__\n",
    "   - Call `append_at_beginning(20)`.\n",
    "   - A new node with data 20 is created. The new node's `next` is set to the current `head` (which is the node with data 10).\n",
    "   - The `head` of the list is updated to the new node with data 20.\n",
    "   "
   ]
  },
  {
   "cell_type": "markdown",
   "metadata": {},
   "source": [
    "# Singly Linked List class"
   ]
  },
  {
   "cell_type": "code",
   "execution_count": 2,
   "metadata": {
    "id": "p2VeTlFqeKT-"
   },
   "outputs": [],
   "source": [
    "class SinglyLinkedList:\n",
    "    def __init__(self):\n",
    "        self.head = None\n",
    "        self.tail = None\n",
    "        self.size = 0\n",
    "\n",
    "    def append_at_end(self, data):\n",
    "        node = Node(data)\n",
    "        \n",
    "        if self.tail:\n",
    "            self.tail.next = node\n",
    "            self.tail = node\n",
    "        else:\n",
    "            self.head = node\n",
    "            self.tail = node\n",
    "\n",
    "    def append_at_beginning(self, data):\n",
    "        node = Node(data)\n",
    "\n",
    "        if self.head:\n",
    "            node.next = self.head\n",
    "            self.head = node\n",
    "        else:\n",
    "            self.head = node\n",
    "            self.tail = node\n",
    "    \n",
    "    def display_list(self):\n",
    "        current = self.head\n",
    "        while current:\n",
    "          print(current.data, end=\" --> \")\n",
    "          current = current.next\n",
    "        print(\"None\")"
   ]
  },
  {
   "cell_type": "code",
   "execution_count": 3,
   "metadata": {
    "id": "Hb4PGe5jeLfU"
   },
   "outputs": [
    {
     "name": "stdout",
     "output_type": "stream",
     "text": [
      "-1 --> 0 --> 1 --> 2 --> None\n"
     ]
    }
   ],
   "source": [
    "s = SinglyLinkedList()\n",
    "s.append_at_end(1)\n",
    "s.append_at_end(2)\n",
    "s.append_at_beginning(0)\n",
    "s.append_at_beginning(-1)\n",
    "s.display_list()"
   ]
  }
 ],
 "metadata": {
  "colab": {
   "provenance": []
  },
  "kernelspec": {
   "display_name": "Python 3 (ipykernel)",
   "language": "python",
   "name": "python3"
  },
  "language_info": {
   "codemirror_mode": {
    "name": "ipython",
    "version": 3
   },
   "file_extension": ".py",
   "mimetype": "text/x-python",
   "name": "python",
   "nbconvert_exporter": "python",
   "pygments_lexer": "ipython3",
   "version": "3.11.0"
  }
 },
 "nbformat": 4,
 "nbformat_minor": 4
}
