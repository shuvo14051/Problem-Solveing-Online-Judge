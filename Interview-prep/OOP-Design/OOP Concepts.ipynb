{
 "cells": [
  {
   "cell_type": "markdown",
   "id": "d341d26a-bb6f-43ac-8bf0-e9fc74d71e4e",
   "metadata": {},
   "source": [
    "## Inheritance"
   ]
  },
  {
   "cell_type": "code",
   "execution_count": 28,
   "id": "3b905df9-c97c-4ecb-8fc7-8b0ed0de9f29",
   "metadata": {},
   "outputs": [],
   "source": [
    "class Person:\n",
    "    def __init__(self, name, age, salary):\n",
    "        self.name = name\n",
    "        self.age = age\n",
    "        self.salary = salary\n",
    "    def display_info(self):\n",
    "        print(\"Name:\", self.name)\n",
    "        print(\"Age:\", self.age)\n",
    "        print(\"Salary:\", self.salary)"
   ]
  },
  {
   "cell_type": "code",
   "execution_count": 29,
   "id": "4b5f0b3d-5508-4c2e-9e47-4fe4b384d9cc",
   "metadata": {},
   "outputs": [
    {
     "name": "stdout",
     "output_type": "stream",
     "text": [
      "Name: Shuvo\n",
      "Age: 29\n",
      "Salary: 32000\n"
     ]
    }
   ],
   "source": [
    "p = Person(\"Shuvo\", \"29\", \"32000\")\n",
    "p.display_info()"
   ]
  },
  {
   "cell_type": "code",
   "execution_count": 41,
   "id": "57b30101-65dc-4bbe-9208-223748c5f720",
   "metadata": {},
   "outputs": [],
   "source": [
    "class Student(Person):\n",
    "    def __init__(self, name, age, salary, gpa):\n",
    "        super().__init__(name, age, salary)\n",
    "        self.gpa = gpa\n",
    "    "
   ]
  },
  {
   "cell_type": "code",
   "execution_count": 42,
   "id": "baea509d-7fce-4c40-a357-2ae793333af6",
   "metadata": {},
   "outputs": [],
   "source": [
    "s = Student(\"Urmi\",23, 22000, \"A+\")"
   ]
  },
  {
   "cell_type": "code",
   "execution_count": 43,
   "id": "4c9cefc9-f536-407c-8d2d-f72b2c6392a3",
   "metadata": {},
   "outputs": [
    {
     "name": "stdout",
     "output_type": "stream",
     "text": [
      "Name: Urmi\n",
      "Age: 23\n",
      "Salary: 22000\n"
     ]
    }
   ],
   "source": [
    "s.display_info()"
   ]
  },
  {
   "cell_type": "markdown",
   "id": "efe84342-d5e5-48e8-809a-e432c4564762",
   "metadata": {},
   "source": [
    "## Abstract Class and Method"
   ]
  },
  {
   "cell_type": "code",
   "execution_count": 63,
   "id": "0714b611-3d10-4938-9cdd-0ff3fc9d0da2",
   "metadata": {},
   "outputs": [],
   "source": [
    "from abc import ABC, abstractmethod\n",
    "\n",
    "class Animal(ABC):\n",
    "    @abstractmethod\n",
    "    def make_sound(self):\n",
    "        pass\n",
    "\n",
    "class Dog(Animal):\n",
    "    def __init__(self, breed):\n",
    "        self.breed = breed\n",
    "\n",
    "    def make_sound(self):\n",
    "        print(\"Abstract method is implemented\")\n",
    "\n",
    "    def bark(self):\n",
    "        print(f\"{self.breed} dig is barking\")"
   ]
  },
  {
   "cell_type": "code",
   "execution_count": 64,
   "id": "bcb3fc1b-e5b5-44eb-b52d-180583425d12",
   "metadata": {},
   "outputs": [
    {
     "name": "stdout",
     "output_type": "stream",
     "text": [
      "BD dig is barking\n"
     ]
    }
   ],
   "source": [
    "d = Dog(\"BD\")\n",
    "d.bark()"
   ]
  },
  {
   "cell_type": "code",
   "execution_count": 65,
   "id": "5b434029-9ec1-44bc-8ea7-7ea06b67de8f",
   "metadata": {},
   "outputs": [
    {
     "name": "stdout",
     "output_type": "stream",
     "text": [
      "Abstract method is implemented\n"
     ]
    }
   ],
   "source": [
    "d.make_sound()"
   ]
  }
 ],
 "metadata": {
  "kernelspec": {
   "display_name": "Python 3 (ipykernel)",
   "language": "python",
   "name": "python3"
  },
  "language_info": {
   "codemirror_mode": {
    "name": "ipython",
    "version": 3
   },
   "file_extension": ".py",
   "mimetype": "text/x-python",
   "name": "python",
   "nbconvert_exporter": "python",
   "pygments_lexer": "ipython3",
   "version": "3.11.0"
  }
 },
 "nbformat": 4,
 "nbformat_minor": 5
}
